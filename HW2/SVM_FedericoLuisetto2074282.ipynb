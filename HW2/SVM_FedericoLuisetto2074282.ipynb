{
 "cells": [
  {
   "cell_type": "markdown",
   "metadata": {},
   "source": [
    "# SVM for classification, without and with kernels\n",
    "\n",
    "In this notebook we are going to explore the use of Support Vector Machines (SVMs) for image classification. We are going to use the famous MNIST dataset, that is a dataset of handwritten digits. We get the data from mldata.org, that is a public repository for machine learning data.\n",
    "\n",
    "The dataset consists of 70,000 images of handwritten digits (i.e., 0, 1, ... 9). Each image is 28 pixels by 28 pixels and we can think of it as a vector of 28x28 = 784 numbers. Each number is an integer between 0 and 255. For each image we have the corresponding label (i.e., 0, 1, ..., 9)."
   ]
  },
  {
   "cell_type": "code",
   "execution_count": 1,
   "metadata": {},
   "outputs": [],
   "source": [
    "#load the required packages\n",
    "\n",
    "%matplotlib inline  \n",
    "\n",
    "import numpy as np\n",
    "import matplotlib.pyplot as plt\n",
    "\n",
    "import sklearn\n",
    "from sklearn.datasets import fetch_openml"
   ]
  },
  {
   "cell_type": "code",
   "execution_count": 2,
   "metadata": {},
   "outputs": [],
   "source": [
    "#fix your ID (\"numero di matricola\") and the seed for random generator\n",
    "ID = 2074282 # COMPLETE\n",
    "np.random.seed(ID)"
   ]
  },
  {
   "cell_type": "markdown",
   "metadata": {},
   "source": [
    "Now let's load the dataset. 'data' contains the input, 'target' contains the label. We normalize the data by dividing each value by 255 so that each value is in [0,1]"
   ]
  },
  {
   "cell_type": "code",
   "execution_count": 3,
   "metadata": {},
   "outputs": [],
   "source": [
    "#load the MNIST dataset and let's normalize the features so that each value is in [0,1]\n",
    "mnist = fetch_openml('mnist_784', version=1)\n",
    "# rescale the data\n",
    "X, y = mnist.data.values / 255., mnist.target.values"
   ]
  },
  {
   "cell_type": "markdown",
   "metadata": {},
   "source": [
    "Now split into training and test. We keep 500 samples in the training set. Make sure that each label is present at least 10 times\n",
    "in training. If it is not, then keep adding permutations to the initial data until this \n",
    "happens.\n",
    "\n",
    "**IMPORTANT**: if you cannot run the SVM with 500 samples or 1000 samples (see below), try with a smaller number of samples (e.g. 200 here and 400 below)."
   ]
  },
  {
   "cell_type": "code",
   "execution_count": 4,
   "metadata": {},
   "outputs": [
    {
     "name": "stdout",
     "output_type": "stream",
     "text": [
      "Labels and frequencies in training dataset: \n"
     ]
    },
    {
     "data": {
      "text/plain": [
       "(array(['0', '1', '2', '3', '4', '5', '6', '7', '8', '9'], dtype=object),\n",
       " array([48, 54, 53, 51, 45, 51, 59, 53, 42, 44], dtype=int64))"
      ]
     },
     "execution_count": 4,
     "metadata": {},
     "output_type": "execute_result"
    }
   ],
   "source": [
    "#random permute the data and split into training and test taking the first 500\n",
    "#data samples as training and the rests as test\n",
    "permutation = np.random.permutation(X.shape[0])\n",
    "\n",
    "X = X[permutation]\n",
    "y = y[permutation]\n",
    "\n",
    "m_training = 500\n",
    "\n",
    "X_train, X_test = X[:m_training], X[m_training:]\n",
    "y_train, y_test = y[:m_training], y[m_training:]\n",
    "\n",
    "print(\"Labels and frequencies in training dataset: \")\n",
    "np.unique(y_train, return_counts = True)"
   ]
  },
  {
   "cell_type": "markdown",
   "metadata": {},
   "source": [
    "We now provide a function to print an image in the dataset and the corresponding true label given the index of the image in the dataset."
   ]
  },
  {
   "cell_type": "code",
   "execution_count": 5,
   "metadata": {},
   "outputs": [],
   "source": [
    "#function for plotting a digit and printing the corresponding labe\n",
    "def plot_digit(X_matrix, labels, index):\n",
    "    print(\"INPUT:\")\n",
    "    plt.imshow(\n",
    "        X_matrix[index].reshape(28,28),\n",
    "        cmap          = plt.cm.gray_r,\n",
    "        interpolation = \"nearest\"\n",
    "    )\n",
    "    plt.show()\n",
    "    print(\"LABEL: %s\" % labels[index])\n",
    "    return"
   ]
  },
  {
   "cell_type": "markdown",
   "metadata": {},
   "source": [
    "As an example, let's print the 100-th image in X_train and the 40,000-th image in X_test and their true labels."
   ]
  },
  {
   "cell_type": "code",
   "execution_count": 6,
   "metadata": {},
   "outputs": [
    {
     "name": "stdout",
     "output_type": "stream",
     "text": [
      "INPUT:\n"
     ]
    },
    {
     "data": {
      "image/png": "[encoded data removed]",
      "text/plain": [
       "<Figure size 432x288 with 1 Axes>"
      ]
     },
     "metadata": {
      "needs_background": "light"
     },
     "output_type": "display_data"
    },
    {
     "name": "stdout",
     "output_type": "stream",
     "text": [
      "LABEL: 0\n",
      "INPUT:\n"
     ]
    },
    {
     "data": {
      "image/png": "[encoded data removed]",
      "text/plain": [
       "<Figure size 432x288 with 1 Axes>"
      ]
     },
     "metadata": {
      "needs_background": "light"
     },
     "output_type": "display_data"
    },
    {
     "name": "stdout",
     "output_type": "stream",
     "text": [
      "LABEL: 1\n"
     ]
    }
   ],
   "source": [
    "#let's try the plotting function\n",
    "plot_digit(X_train,y_train,100)\n",
    "plot_digit(X_test,y_test,40000)"
   ]
  },
  {
   "cell_type": "markdown",
   "metadata": {},
   "source": [
    "## TO DO 1\n",
    "Run SVM with 5-fold cross validation to pick the best kernel and values of parameters. We provide some potential choice for parameters, but change the grid if needed (e.g., it takes too long). For the SVM for classification use SVC from sklearn.svm; for the grid search we suggest you use GridSearchCV from sklearn.model_selection, but you can implement your own cross-validation for model selection if you prefer.\n",
    "\n",
    "Finally, print the best parameters used as well as the score obtained by the best model"
   ]
  },
  {
   "cell_type": "code",
   "execution_count": 7,
   "metadata": {},
   "outputs": [
    {
     "name": "stdout",
     "output_type": "stream",
     "text": [
      "RESULTS FOR LINEAR KERNEL\n",
      "\n",
      "Best parameters set found:\n",
      "{'C': 1}\n",
      "Score with best parameters:\n",
      "0.8240000000000001\n",
      "\n",
      "All scores on the grid:\n",
      "{'mean_fit_time': array([0.08322272, 0.07318521, 0.07673321]), 'std_fit_time': array([0.00548836, 0.00615899, 0.0020693 ]), 'mean_score_time': array([0.01904349, 0.02072096, 0.02048435]), 'std_score_time': array([0.00376741, 0.00317613, 0.00116188]), 'param_C': masked_array(data=[1, 10, 100],\n",
      "             mask=[False, False, False],\n",
      "       fill_value='?',\n",
      "            dtype=object), 'params': [{'C': 1}, {'C': 10}, {'C': 100}], 'split0_test_score': array([0.86, 0.86, 0.86]), 'split1_test_score': array([0.81, 0.81, 0.81]), 'split2_test_score': array([0.77, 0.77, 0.77]), 'split3_test_score': array([0.84, 0.84, 0.84]), 'split4_test_score': array([0.84, 0.84, 0.84]), 'mean_test_score': array([0.824, 0.824, 0.824]), 'std_test_score': array([0.03136877, 0.03136877, 0.03136877]), 'rank_test_score': array([1, 1, 1])}\n",
      "\n",
      "RESULTS FOR POLY DEGREE=2 KERNEL\n",
      "\n",
      "Best parameters set found:\n",
      "{'C': 1, 'gamma': 0.1}\n",
      "Score with best parameters:\n",
      "0.85\n",
      "\n",
      "All scores on the grid:\n",
      "{'mean_fit_time': array([0.09765058, 0.10291166, 0.09885497, 0.08347239, 0.0880734 ,\n",
      "       0.08576307, 0.0878881 , 0.08512468, 0.08494511]), 'std_fit_time': array([0.00391454, 0.01050949, 0.01322216, 0.0026209 , 0.00732346,\n",
      "       0.00346542, 0.00513787, 0.00360488, 0.00265953]), 'mean_score_time': array([0.03569961, 0.01765399, 0.01922083, 0.01539707, 0.0194025 ,\n",
      "       0.01535363, 0.01696811, 0.01939697, 0.0180676 ]), 'std_score_time': array([0.00322943, 0.00254851, 0.00240841, 0.00165023, 0.002217  ,\n",
      "       0.00685194, 0.00214146, 0.00254796, 0.00524589]), 'param_C': masked_array(data=[1, 1, 1, 10, 10, 10, 100, 100, 100],\n",
      "             mask=[False, False, False, False, False, False, False, False,\n",
      "                   False],\n",
      "       fill_value='?',\n",
      "            dtype=object), 'param_gamma': masked_array(data=[0.01, 0.1, 1.0, 0.01, 0.1, 1.0, 0.01, 0.1, 1.0],\n",
      "             mask=[False, False, False, False, False, False, False, False,\n",
      "                   False],\n",
      "       fill_value='?',\n",
      "            dtype=object), 'params': [{'C': 1, 'gamma': 0.01}, {'C': 1, 'gamma': 0.1}, {'C': 1, 'gamma': 1.0}, {'C': 10, 'gamma': 0.01}, {'C': 10, 'gamma': 0.1}, {'C': 10, 'gamma': 1.0}, {'C': 100, 'gamma': 0.01}, {'C': 100, 'gamma': 0.1}, {'C': 100, 'gamma': 1.0}], 'split0_test_score': array([0.88, 0.87, 0.87, 0.87, 0.87, 0.87, 0.87, 0.87, 0.87]), 'split1_test_score': array([0.82, 0.85, 0.85, 0.85, 0.85, 0.85, 0.85, 0.85, 0.85]), 'split2_test_score': array([0.77, 0.83, 0.83, 0.82, 0.83, 0.83, 0.83, 0.83, 0.83]), 'split3_test_score': array([0.77, 0.86, 0.86, 0.86, 0.86, 0.86, 0.86, 0.86, 0.86]), 'split4_test_score': array([0.86, 0.84, 0.84, 0.84, 0.84, 0.84, 0.84, 0.84, 0.84]), 'mean_test_score': array([0.82 , 0.85 , 0.85 , 0.848, 0.85 , 0.85 , 0.85 , 0.85 , 0.85 ]), 'std_test_score': array([0.04516636, 0.01414214, 0.01414214, 0.01720465, 0.01414214,\n",
      "       0.01414214, 0.01414214, 0.01414214, 0.01414214]), 'rank_test_score': array([9, 1, 1, 8, 1, 1, 1, 1, 1])}\n",
      "\n",
      "RESULTS FOR rbf KERNEL\n",
      "\n",
      "Best parameters set found:\n",
      "{'C': 10, 'gamma': 0.01}\n",
      "Score with best parameters:\n",
      "0.8700000000000001\n",
      "\n",
      "All scores on the grid:\n",
      "{'mean_fit_time': array([0.11361046, 0.1776186 , 0.16562967, 0.12818818, 0.17221174,\n",
      "       0.17019944, 0.12334266, 0.16545777, 0.16670938]), 'std_fit_time': array([0.01121418, 0.01193778, 0.00405883, 0.00799777, 0.00517627,\n",
      "       0.00636668, 0.00306115, 0.00522489, 0.00502607]), 'mean_score_time': array([0.0556149 , 0.05408411, 0.05725789, 0.04592566, 0.05597835,\n",
      "       0.05517173, 0.04840274, 0.05697317, 0.05115938]), 'std_score_time': array([0.0037999 , 0.00321995, 0.00434021, 0.00147111, 0.00166742,\n",
      "       0.00156867, 0.00122713, 0.0078164 , 0.00493454]), 'param_C': masked_array(data=[1, 1, 1, 10, 10, 10, 100, 100, 100],\n",
      "             mask=[False, False, False, False, False, False, False, False,\n",
      "                   False],\n",
      "       fill_value='?',\n",
      "            dtype=object), 'param_gamma': masked_array(data=[0.01, 0.1, 1.0, 0.01, 0.1, 1.0, 0.01, 0.1, 1.0],\n",
      "             mask=[False, False, False, False, False, False, False, False,\n",
      "                   False],\n",
      "       fill_value='?',\n",
      "            dtype=object), 'params': [{'C': 1, 'gamma': 0.01}, {'C': 1, 'gamma': 0.1}, {'C': 1, 'gamma': 1.0}, {'C': 10, 'gamma': 0.01}, {'C': 10, 'gamma': 0.1}, {'C': 10, 'gamma': 1.0}, {'C': 100, 'gamma': 0.01}, {'C': 100, 'gamma': 0.1}, {'C': 100, 'gamma': 1.0}], 'split0_test_score': array([0.88, 0.48, 0.11, 0.9 , 0.55, 0.11, 0.9 , 0.55, 0.11]), 'split1_test_score': array([0.87, 0.55, 0.12, 0.87, 0.62, 0.12, 0.87, 0.62, 0.12]), 'split2_test_score': array([0.79, 0.47, 0.12, 0.83, 0.52, 0.12, 0.83, 0.52, 0.12]), 'split3_test_score': array([0.87, 0.57, 0.12, 0.87, 0.57, 0.12, 0.87, 0.57, 0.12]), 'split4_test_score': array([0.88, 0.49, 0.12, 0.88, 0.56, 0.12, 0.88, 0.56, 0.12]), 'mean_test_score': array([0.858, 0.512, 0.118, 0.87 , 0.564, 0.118, 0.87 , 0.564, 0.118]), 'std_test_score': array([0.03429286, 0.0401995 , 0.004     , 0.02280351, 0.03261901,\n",
      "       0.004     , 0.02280351, 0.03261901, 0.004     ]), 'rank_test_score': array([3, 6, 7, 1, 4, 7, 1, 4, 7])}\n"
     ]
    }
   ],
   "source": [
    "#import SVC\n",
    "from sklearn.svm import SVC\n",
    "#import for Cross-Validation\n",
    "from sklearn.model_selection import GridSearchCV\n",
    "\n",
    "# parameters for linear SVM\n",
    "parameters = {'C': [1, 10, 100]}\n",
    "\n",
    "#run linear SVM\n",
    "linear_SVM = SVC(kernel='linear')\n",
    "\n",
    "#find best model using 5-fold CV \n",
    "#and train it using all the training data\n",
    "\n",
    "# ADD CODE\n",
    "grid_search_l = GridSearchCV(linear_SVM, parameters, cv=5, n_jobs=-1)\n",
    "grid_search_l.fit(X_train, y_train)\n",
    "#\n",
    "\n",
    "print ('RESULTS FOR LINEAR KERNEL\\n')\n",
    "\n",
    "print(\"Best parameters set found:\")\n",
    "# ADD CODE\n",
    "print(grid_search_l.best_params_)\n",
    "#\n",
    "\n",
    "print(\"Score with best parameters:\")\n",
    "# ADD CODE\n",
    "print(grid_search_l.best_score_)\n",
    "#\n",
    "\n",
    "print(\"\\nAll scores on the grid:\")\n",
    "# ADD CODE\n",
    "print(grid_search_l.cv_results_)\n",
    "#\n",
    "\n",
    "# parameters for poly with degree 2 kernel\n",
    "parameters = {'C': [1, 10, 100],'gamma':[0.01,0.1,1.]}\n",
    "\n",
    "#run SVM with poly of degree 2 kernel\n",
    "poly2_SVM = SVC(kernel='poly',degree=2)\n",
    "\n",
    "# ADD CODE: DO THE SAME AS ABOVE FOR POLYNOMIAL KERNEL WITH DEGREE=2\n",
    "#find best model using 5-fold CV \n",
    "#and train it using all the training data\n",
    "grid_search_p = GridSearchCV(poly2_SVM, parameters, cv=5, n_jobs=-1)\n",
    "grid_search_p.fit(X_train, y_train)\n",
    "#\n",
    "\n",
    "print ('\\nRESULTS FOR POLY DEGREE=2 KERNEL\\n')\n",
    "\n",
    "print(\"Best parameters set found:\")\n",
    "# ADD CODE\n",
    "print(grid_search_p.best_params_)\n",
    "#\n",
    "\n",
    "print(\"Score with best parameters:\")\n",
    "# ADD CODE\n",
    "print(grid_search_p.best_score_)\n",
    "#\n",
    "\n",
    "print(\"\\nAll scores on the grid:\")\n",
    "# ADD CODE\n",
    "print(grid_search_p.cv_results_)\n",
    "#\n",
    "\n",
    "# parameters for rbf SVM\n",
    "parameters = {'C': [1, 10, 100],'gamma':[0.01,0.1,1.]}\n",
    "\n",
    "#run SVM with rbf kernel\n",
    "rbf_SVM = SVC(kernel='rbf')\n",
    "# ADD CODE: DO THE SAME AS ABOVE FOR RBF KERNEL\n",
    "#find best model using 5-fold CV \n",
    "#and train it using all the training data\n",
    "grid_search_rbf = GridSearchCV(rbf_SVM, parameters, cv=5, n_jobs=-1)\n",
    "grid_search_rbf.fit(X_train, y_train)\n",
    "#\n",
    "\n",
    "print ('\\nRESULTS FOR rbf KERNEL\\n')\n",
    "\n",
    "print(\"Best parameters set found:\")\n",
    "# ADD CODE\n",
    "print(grid_search_rbf.best_params_)\n",
    "#\n",
    "\n",
    "print(\"Score with best parameters:\")\n",
    "# ADD CODE\n",
    "print(grid_search_rbf.best_score_)\n",
    "#\n",
    "\n",
    "print(\"\\nAll scores on the grid:\")\n",
    "# ADD CODE\n",
    "print(grid_search_rbf.cv_results_)\n",
    "#"
   ]
  },
  {
   "cell_type": "markdown",
   "metadata": {},
   "source": [
    "## TO DO 2\n",
    "For the \"best\" SVM kernel and choice of parameters from above, train the model on the entire training set and measure the training error. Also make predictions on the test set and measure the test error. Print the training and the test error."
   ]
  },
  {
   "cell_type": "code",
   "execution_count": 8,
   "metadata": {},
   "outputs": [
    {
     "name": "stdout",
     "output_type": "stream",
     "text": [
      "Best SVM training error: 0.000000\n",
      "Best SVM test error: 0.107712\n"
     ]
    }
   ],
   "source": [
    "#get training and test error for the best SVM model from CV\n",
    "best_SVM = GridSearchCV(rbf_SVM, {'C':[10], 'gamma':[0.01]}, cv=5, n_jobs=-1) # ADD CODE\n",
    "\n",
    "# fit the model on the entire training set\n",
    "# ADD CODE\n",
    "best_SVM.fit(X_train, y_train)\n",
    "#\n",
    "\n",
    "#get the training and test error\n",
    "training_error = 1. - best_SVM.score(X_train,y_train)\n",
    "test_error = 1. - best_SVM.score(X_test,y_test)\n",
    "\n",
    "print (\"Best SVM training error: %f\" % training_error)\n",
    "print (\"Best SVM test error: %f\" % test_error)"
   ]
  },
  {
   "cell_type": "markdown",
   "metadata": {},
   "source": [
    "## Use logistic regression for comparison\n",
    "\n",
    "## TO DO 3\n",
    "\n",
    "Just for comparison let's also use logistic regression, first with the default values of the parameter for regularization and then with cross-validation to fix the value of the parameters. For cross validation, use 5-fold cross validation and the default values of the regularization parameters for the function linear_model.LogisticRegressionCV(...).\n",
    "\n",
    "Note: during training you may receive a \"ConvergenceWarning\" that indicates that the logistic regression solver did not converge to the optimal result. Given the scope of the notebook, we can ignore such warning but in real-world scenarios you should take corrective measures such as increasing the number of training iterations and/or the runtime for training or picking a different optimizer"
   ]
  },
  {
   "cell_type": "code",
   "execution_count": 9,
   "metadata": {},
   "outputs": [
    {
     "name": "stderr",
     "output_type": "stream",
     "text": [
      "c:\\Users\\feder\\anaconda3\\lib\\site-packages\\sklearn\\linear_model\\_logistic.py:814: ConvergenceWarning: lbfgs failed to converge (status=1):\n",
      "STOP: TOTAL NO. of ITERATIONS REACHED LIMIT.\n",
      "\n",
      "Increase the number of iterations (max_iter) or scale the data as shown in:\n",
      "    https://scikit-learn.org/stable/modules/preprocessing.html\n",
      "Please also refer to the documentation for alternative solver options:\n",
      "    https://scikit-learn.org/stable/modules/linear_model.html#logistic-regression\n",
      "  n_iter_i = _check_optimize_result(\n"
     ]
    },
    {
     "name": "stdout",
     "output_type": "stream",
     "text": [
      "Best logistic regression training error: 0.000000\n",
      "Best logistic regression test error: 0.165799\n"
     ]
    },
    {
     "name": "stderr",
     "output_type": "stream",
     "text": [
      "c:\\Users\\feder\\anaconda3\\lib\\site-packages\\sklearn\\linear_model\\_logistic.py:814: ConvergenceWarning: lbfgs failed to converge (status=1):\n",
      "STOP: TOTAL NO. of ITERATIONS REACHED LIMIT.\n",
      "\n",
      "Increase the number of iterations (max_iter) or scale the data as shown in:\n",
      "    https://scikit-learn.org/stable/modules/preprocessing.html\n",
      "Please also refer to the documentation for alternative solver options:\n",
      "    https://scikit-learn.org/stable/modules/linear_model.html#logistic-regression\n",
      "  n_iter_i = _check_optimize_result(\n"
     ]
    },
    {
     "name": "stdout",
     "output_type": "stream",
     "text": [
      "Best logistic regression training error with CV: 0.002000\n",
      "Best logistic regression test error with CV: 0.162906\n"
     ]
    }
   ],
   "source": [
    "from sklearn import linear_model\n",
    "\n",
    "lr = linear_model.LogisticRegression()\n",
    "# fit the model on the training data\n",
    "# ADD CODE\n",
    "lr.fit(X_train,y_train)\n",
    "#\n",
    "\n",
    "#compute training and test error for model above\n",
    "training_error = 1. - lr.score(X_train, y_train) # COMPLETE\n",
    "test_error = 1. - lr.score(X_test, y_test) # COMPLETE\n",
    "\n",
    "print (\"Best logistic regression training error: %f\" % training_error)\n",
    "print (\"Best logistic regression test error: %f\" % test_error)\n",
    "\n",
    "#logistic regression with 5-fold CV: you can use use linear_model.LogisticRegressionCV\n",
    "# use 5-fold CV to find the best choice of the parameter, than train\n",
    "# the model on the entire training set\n",
    "lr_cv = linear_model.LogisticRegressionCV(cv=5, n_jobs=-1) # COMPLETE\n",
    "lr_cv.fit(X_train,  y_train)\n",
    "training_error_cv = 1. - lr_cv.score(X_train, y_train) # COMPLETE\n",
    "test_error_cv = 1. - lr_cv.score(X_test, y_test) # COMPLETE\n",
    "\n",
    "print (\"Best logistic regression training error with CV: %f\" % training_error_cv)\n",
    "print (\"Best logistic regression test error with CV: %f\" % test_error_cv)"
   ]
  },
  {
   "cell_type": "markdown",
   "metadata": {},
   "source": [
    "## TO DO 4 \n",
    "Compare and comment the results from SVM and logistic regression."
   ]
  },
  {
   "cell_type": "code",
   "execution_count": 10,
   "metadata": {},
   "outputs": [
    {
     "name": "stdout",
     "output_type": "stream",
     "text": [
      "[['linear', {'C': 1}, 0.8240000000000001], ['poly', {'C': 1, 'gamma': 0.1}, 0.85], ['rbf', {'C': 10, 'gamma': 0.01}, 0.8700000000000001]]\n",
      "[['logistic regression', 0.8342014388489208], ['logistic regression cv', 0.8370935251798561]]\n"
     ]
    }
   ],
   "source": [
    "data_svm = [\n",
    "    ['linear', grid_search_l.best_params_, grid_search_l.best_score_],\n",
    "    ['poly', grid_search_p.best_params_, grid_search_p.best_score_],\n",
    "    ['rbf', grid_search_rbf.best_params_, grid_search_rbf.best_score_]\n",
    "]\n",
    "data_lr = [\n",
    "    ['logistic regression', 1 - test_error],\n",
    "    ['logistic regression cv', 1 - test_error_cv]\n",
    "]\n",
    "print(data_svm)\n",
    "print(data_lr)"
   ]
  },
  {
   "attachments": {},
   "cell_type": "markdown",
   "metadata": {},
   "source": [
    "### Compare and comment\n",
    "The test shows that the best score is reached by GridSearchCV with rbf kernel and parameters {*C*:10, *gamma*:0.01}.\n",
    "\n",
    "From the test we can observe that the scores using logistic regression remains basically the same even with 5-fold cross validation. This is due to the fact that logistic regression uses sigmoid function for classification, that is a more \"simple\" function as the SVM one. To be more precise only **poly** and **rbf** kernel have a better score than logistic regression, instead **linear** kernel has a worse one. This is because it has similar performance as logistic regression but depending on the features, one may be more efficient than the other."
   ]
  },
  {
   "cell_type": "markdown",
   "metadata": {},
   "source": [
    "## TO DO 5\n",
    "Write the code that finds and plots a digit that is missclassified by logistic regression (optimized for the regularization parameter) and correctly classified by the \"best\" SVM."
   ]
  },
  {
   "cell_type": "code",
   "execution_count": 11,
   "metadata": {},
   "outputs": [
    {
     "name": "stdout",
     "output_type": "stream",
     "text": [
      "INPUT:\n"
     ]
    },
    {
     "data": {
      "image/png": "[encoded data removed]",
      "text/plain": [
       "<Figure size 432x288 with 1 Axes>"
      ]
     },
     "metadata": {
      "needs_background": "light"
     },
     "output_type": "display_data"
    },
    {
     "name": "stdout",
     "output_type": "stream",
     "text": [
      "LABEL: 4\n",
      "SVM PREDICT:  4\n",
      "LR PREDICT:  9\n"
     ]
    }
   ],
   "source": [
    "# ADD CODE\n",
    "\n",
    "prediction_lr = lr.predict(X_test)\n",
    "prediction_svm = best_SVM.predict(X_test)\n",
    "\n",
    "misclassified = np.where(y_test!=prediction_lr)[0]\n",
    "classified = np.where(y_test==prediction_svm)[0]\n",
    "foo = -1\n",
    "for i in classified:\n",
    "    for j in misclassified:\n",
    "        if i==j:\n",
    "            foo = i\n",
    "            break\n",
    "        if foo != -1:\n",
    "            break\n",
    "    if foo != -1:\n",
    "        break\n",
    "\n",
    "plot_digit(X_test, y_test, foo)\n",
    "print(\"SVM PREDICT: \", prediction_svm[foo])\n",
    "print(\"LR PREDICT: \", prediction_lr[foo])"
   ]
  },
  {
   "cell_type": "markdown",
   "metadata": {},
   "source": [
    "## More data\n",
    "Now let's do the same but using 1000 data points for training. \n",
    "\n",
    "## TO DO 6\n",
    "Repeat the entire analysis above using 1000 samples. Of course you can copy the code from above (but no need to copy markdown comments)."
   ]
  },
  {
   "cell_type": "code",
   "execution_count": 12,
   "metadata": {},
   "outputs": [
    {
     "name": "stdout",
     "output_type": "stream",
     "text": [
      "Labels and frequencies in training dataset: \n",
      "RESULTS FOR LINEAR KERNEL\n",
      "\n",
      "Best parameters set found:\n",
      "{'C': 1}\n",
      "Score with best parameters:\n",
      "0.8719999999999999\n",
      "\n",
      "All scores on the grid:\n",
      "{'mean_fit_time': array([0.26067386, 0.29563355, 0.24154844]), 'std_fit_time': array([0.01493531, 0.0474098 , 0.07854783]), 'mean_score_time': array([0.08807745, 0.09407511, 0.06903505]), 'std_score_time': array([0.00454979, 0.01179108, 0.01142563]), 'param_C': masked_array(data=[1, 10, 100],\n",
      "             mask=[False, False, False],\n",
      "       fill_value='?',\n",
      "            dtype=object), 'params': [{'C': 1}, {'C': 10}, {'C': 100}], 'split0_test_score': array([0.875, 0.875, 0.875]), 'split1_test_score': array([0.875, 0.875, 0.875]), 'split2_test_score': array([0.855, 0.855, 0.855]), 'split3_test_score': array([0.88, 0.88, 0.88]), 'split4_test_score': array([0.875, 0.875, 0.875]), 'mean_test_score': array([0.872, 0.872, 0.872]), 'std_test_score': array([0.0087178, 0.0087178, 0.0087178]), 'rank_test_score': array([1, 1, 1])}\n",
      "\n",
      "RESULTS FOR POLY DEGREE=2 KERNEL\n",
      "\n",
      "Best parameters set found:\n",
      "{'C': 1, 'gamma': 0.1}\n",
      "Score with best parameters:\n",
      "0.891\n",
      "\n",
      "All scores on the grid:\n",
      "{'mean_fit_time': array([0.39106884, 0.30913911, 0.30570612, 0.29830861, 0.29953527,\n",
      "       0.31788435, 0.31346407, 0.33412209, 0.32121749]), 'std_fit_time': array([0.02093338, 0.00979409, 0.00835774, 0.00839388, 0.01438035,\n",
      "       0.0286157 , 0.01795128, 0.02236207, 0.022667  ]), 'mean_score_time': array([0.10337634, 0.08695445, 0.07932901, 0.07949052, 0.06810312,\n",
      "       0.08304005, 0.07126508, 0.07491517, 0.08904371]), 'std_score_time': array([0.00626867, 0.00436647, 0.00445225, 0.00917527, 0.00227255,\n",
      "       0.00659771, 0.00287051, 0.00893357, 0.01623566]), 'param_C': masked_array(data=[1, 1, 1, 10, 10, 10, 100, 100, 100],\n",
      "             mask=[False, False, False, False, False, False, False, False,\n",
      "                   False],\n",
      "       fill_value='?',\n",
      "            dtype=object), 'param_gamma': masked_array(data=[0.01, 0.1, 1.0, 0.01, 0.1, 1.0, 0.01, 0.1, 1.0],\n",
      "             mask=[False, False, False, False, False, False, False, False,\n",
      "                   False],\n",
      "       fill_value='?',\n",
      "            dtype=object), 'params': [{'C': 1, 'gamma': 0.01}, {'C': 1, 'gamma': 0.1}, {'C': 1, 'gamma': 1.0}, {'C': 10, 'gamma': 0.01}, {'C': 10, 'gamma': 0.1}, {'C': 10, 'gamma': 1.0}, {'C': 100, 'gamma': 0.01}, {'C': 100, 'gamma': 0.1}, {'C': 100, 'gamma': 1.0}], 'split0_test_score': array([0.875, 0.89 , 0.89 , 0.89 , 0.89 , 0.89 , 0.89 , 0.89 , 0.89 ]), 'split1_test_score': array([0.87 , 0.91 , 0.91 , 0.905, 0.91 , 0.91 , 0.91 , 0.91 , 0.91 ]), 'split2_test_score': array([0.83 , 0.875, 0.875, 0.875, 0.875, 0.875, 0.875, 0.875, 0.875]), 'split3_test_score': array([0.88, 0.9 , 0.9 , 0.9 , 0.9 , 0.9 , 0.9 , 0.9 , 0.9 ]), 'split4_test_score': array([0.87, 0.88, 0.88, 0.88, 0.88, 0.88, 0.88, 0.88, 0.88]), 'mean_test_score': array([0.865, 0.891, 0.891, 0.89 , 0.891, 0.891, 0.891, 0.891, 0.891]), 'std_test_score': array([0.01788854, 0.01280625, 0.01280625, 0.01140175, 0.01280625,\n",
      "       0.01280625, 0.01280625, 0.01280625, 0.01280625]), 'rank_test_score': array([9, 1, 1, 8, 1, 1, 1, 1, 1])}\n",
      "\n",
      "RESULTS FOR rbf KERNEL\n",
      "\n",
      "Best parameters set found:\n",
      "{'C': 10, 'gamma': 0.01}\n",
      "Score with best parameters:\n",
      "0.9110000000000001\n",
      "\n",
      "All scores on the grid:\n",
      "{'mean_fit_time': array([0.53234735, 1.13550496, 0.93824821, 0.53428421, 1.14187841,\n",
      "       1.24936833, 0.49241982, 1.03689861, 0.85876913]), 'std_fit_time': array([0.10844869, 0.09491534, 0.03834239, 0.04203258, 0.09294994,\n",
      "       0.12665217, 0.02784431, 0.03348104, 0.15670463]), 'mean_score_time': array([0.30386705, 0.33851099, 0.32538218, 0.24459395, 0.40833602,\n",
      "       0.34496393, 0.28279958, 0.3316916 , 0.2103178 ]), 'std_score_time': array([0.0296489 , 0.03645928, 0.02673174, 0.0278385 , 0.02993218,\n",
      "       0.03230465, 0.0191288 , 0.01457709, 0.04028882]), 'param_C': masked_array(data=[1, 1, 1, 10, 10, 10, 100, 100, 100],\n",
      "             mask=[False, False, False, False, False, False, False, False,\n",
      "                   False],\n",
      "       fill_value='?',\n",
      "            dtype=object), 'param_gamma': masked_array(data=[0.01, 0.1, 1.0, 0.01, 0.1, 1.0, 0.01, 0.1, 1.0],\n",
      "             mask=[False, False, False, False, False, False, False, False,\n",
      "                   False],\n",
      "       fill_value='?',\n",
      "            dtype=object), 'params': [{'C': 1, 'gamma': 0.01}, {'C': 1, 'gamma': 0.1}, {'C': 1, 'gamma': 1.0}, {'C': 10, 'gamma': 0.01}, {'C': 10, 'gamma': 0.1}, {'C': 10, 'gamma': 1.0}, {'C': 100, 'gamma': 0.01}, {'C': 100, 'gamma': 0.1}, {'C': 100, 'gamma': 1.0}], 'split0_test_score': array([0.895, 0.69 , 0.125, 0.92 , 0.715, 0.125, 0.92 , 0.715, 0.125]), 'split1_test_score': array([0.89 , 0.7  , 0.125, 0.91 , 0.73 , 0.13 , 0.91 , 0.73 , 0.13 ]), 'split2_test_score': array([0.89 , 0.625, 0.13 , 0.895, 0.655, 0.14 , 0.895, 0.655, 0.14 ]), 'split3_test_score': array([0.915, 0.65 , 0.125, 0.91 , 0.685, 0.13 , 0.91 , 0.685, 0.13 ]), 'split4_test_score': array([0.9  , 0.66 , 0.125, 0.92 , 0.68 , 0.125, 0.92 , 0.68 , 0.125]), 'mean_test_score': array([0.898, 0.665, 0.126, 0.911, 0.693, 0.13 , 0.911, 0.693, 0.13 ]), 'std_test_score': array([0.00927362, 0.02720294, 0.002     , 0.00916515, 0.02657066,\n",
      "       0.00547723, 0.00916515, 0.02657066, 0.00547723]), 'rank_test_score': array([3, 6, 9, 1, 4, 7, 1, 4, 7])}\n",
      "Best SVM training error: 0.000000\n",
      "Best SVM test error: 0.079725\n"
     ]
    },
    {
     "name": "stderr",
     "output_type": "stream",
     "text": [
      "c:\\Users\\feder\\anaconda3\\lib\\site-packages\\sklearn\\linear_model\\_logistic.py:814: ConvergenceWarning: lbfgs failed to converge (status=1):\n",
      "STOP: TOTAL NO. of ITERATIONS REACHED LIMIT.\n",
      "\n",
      "Increase the number of iterations (max_iter) or scale the data as shown in:\n",
      "    https://scikit-learn.org/stable/modules/preprocessing.html\n",
      "Please also refer to the documentation for alternative solver options:\n",
      "    https://scikit-learn.org/stable/modules/linear_model.html#logistic-regression\n",
      "  n_iter_i = _check_optimize_result(\n"
     ]
    },
    {
     "name": "stdout",
     "output_type": "stream",
     "text": [
      "Best logistic regression training error: 0.092000\n",
      "Best logistic regression test error: 0.165667\n",
      "Best logistic regression training error with CV: 0.070000\n",
      "Best logistic regression test error with CV: 0.133348\n"
     ]
    }
   ],
   "source": [
    "m_training_k = 1000\n",
    "\n",
    "X_train_k, X_test_k = X[:m_training_k], X[m_training_k:]\n",
    "y_train_k, y_test_k = y[:m_training_k], y[m_training_k:]\n",
    "\n",
    "print(\"Labels and frequencies in training dataset: \")\n",
    "np.unique(y_train_k, return_counts = True)\n",
    "\n",
    "###########\n",
    "# TO DO 1 #\n",
    "###########\n",
    "\n",
    "# parameters for linear SVM\n",
    "parameters = {'C': [1, 10, 100]}\n",
    "\n",
    "#run linear SVM\n",
    "linear_SVM = SVC(kernel='linear')\n",
    "\n",
    "#find best model using 5-fold CV \n",
    "#and train it using all the training data\n",
    "\n",
    "# ADD CODE\n",
    "grid_search_l_k = GridSearchCV(linear_SVM, parameters, cv=5, n_jobs=-1)\n",
    "grid_search_l_k.fit(X_train_k, y_train_k)\n",
    "#\n",
    "\n",
    "print ('RESULTS FOR LINEAR KERNEL\\n')\n",
    "\n",
    "print(\"Best parameters set found:\")\n",
    "# ADD CODE\n",
    "print(grid_search_l_k.best_params_)\n",
    "#\n",
    "\n",
    "print(\"Score with best parameters:\")\n",
    "# ADD CODE\n",
    "print(grid_search_l_k.best_score_)\n",
    "#\n",
    "\n",
    "print(\"\\nAll scores on the grid:\")\n",
    "# ADD CODE\n",
    "print(grid_search_l_k.cv_results_)\n",
    "#\n",
    "\n",
    "# parameters for poly with degree 2 kernel\n",
    "parameters = {'C': [1, 10, 100],'gamma':[0.01,0.1,1.]}\n",
    "\n",
    "#run SVM with poly of degree 2 kernel\n",
    "poly2_SVM = SVC(kernel='poly',degree=2)\n",
    "\n",
    "# ADD CODE: DO THE SAME AS ABOVE FOR POLYNOMIAL KERNEL WITH DEGREE=2\n",
    "#find best model using 5-fold CV \n",
    "#and train it using all the training data\n",
    "grid_search_p_k = GridSearchCV(poly2_SVM, parameters, cv=5, n_jobs=-1)\n",
    "grid_search_p_k.fit(X_train_k, y_train_k)\n",
    "#\n",
    "\n",
    "print ('\\nRESULTS FOR POLY DEGREE=2 KERNEL\\n')\n",
    "\n",
    "print(\"Best parameters set found:\")\n",
    "# ADD CODE\n",
    "print(grid_search_p_k.best_params_)\n",
    "#\n",
    "\n",
    "print(\"Score with best parameters:\")\n",
    "# ADD CODE\n",
    "print(grid_search_p_k.best_score_)\n",
    "#\n",
    "\n",
    "print(\"\\nAll scores on the grid:\")\n",
    "# ADD CODE\n",
    "print(grid_search_p_k.cv_results_)\n",
    "#\n",
    "\n",
    "# parameters for rbf SVM\n",
    "parameters = {'C': [1, 10, 100],'gamma':[0.01,0.1,1.]}\n",
    "\n",
    "#run SVM with rbf kernel\n",
    "rbf_SVM = SVC(kernel='rbf')\n",
    "# ADD CODE: DO THE SAME AS ABOVE FOR RBF KERNEL\n",
    "#find best model using 5-fold CV \n",
    "#and train it using all the training data\n",
    "grid_search_rbf_k = GridSearchCV(rbf_SVM, parameters, cv=5, n_jobs=-1)\n",
    "grid_search_rbf_k.fit(X_train_k, y_train_k)\n",
    "#\n",
    "\n",
    "print ('\\nRESULTS FOR rbf KERNEL\\n')\n",
    "\n",
    "print(\"Best parameters set found:\")\n",
    "# ADD CODE\n",
    "print(grid_search_rbf_k.best_params_)\n",
    "#\n",
    "\n",
    "print(\"Score with best parameters:\")\n",
    "# ADD CODE\n",
    "print(grid_search_rbf_k.best_score_)\n",
    "#\n",
    "\n",
    "print(\"\\nAll scores on the grid:\")\n",
    "# ADD CODE\n",
    "print(grid_search_rbf_k.cv_results_)\n",
    "#\n",
    "\n",
    "###########\n",
    "# TO DO 2 #\n",
    "###########\n",
    "\n",
    "#get training and test error for the best SVM model from CV\n",
    "best_SVM_k = GridSearchCV(rbf_SVM, {'C':[10], 'gamma':[0.01]}, cv=5, n_jobs=-1) # ADD CODE\n",
    "\n",
    "# fit the model on the entire training set\n",
    "# ADD CODE\n",
    "best_SVM_k.fit(X_train_k, y_train_k)\n",
    "#\n",
    "\n",
    "#get the training and test error\n",
    "training_error_k = 1. - best_SVM_k.score(X_train_k,y_train_k)\n",
    "test_error_k = 1. - best_SVM_k.score(X_test_k,y_test_k)\n",
    "\n",
    "print (\"Best SVM training error: %f\" % training_error_k)\n",
    "print (\"Best SVM test error: %f\" % test_error_k)\n",
    "\n",
    "###########\n",
    "# TO DO 3 #\n",
    "###########\n",
    "\n",
    "lr_k = linear_model.LogisticRegression()\n",
    "# fit the model on the training data\n",
    "# ADD CODE\n",
    "lr_k.fit(X_train_k,y_train_k)\n",
    "#\n",
    "\n",
    "#compute training and test error for model above\n",
    "training_error_k = 1. - lr.score(X_train_k, y_train_k) # COMPLETE\n",
    "test_error_k = 1. - lr.score(X_test_k, y_test_k) # COMPLETE\n",
    "\n",
    "print (\"Best logistic regression training error: %f\" % training_error_k)\n",
    "print (\"Best logistic regression test error: %f\" % test_error_k)\n",
    "\n",
    "#logistic regression with 5-fold CV: you can use use linear_model.LogisticRegressionCV\n",
    "# use 5-fold CV to find the best choice of the parameter, than train\n",
    "# the model on the entire training set\n",
    "lr_cv_k = linear_model.LogisticRegressionCV(cv=5, n_jobs=-1) # COMPLETE\n",
    "lr_cv_k.fit(X_train_k,  y_train_k)\n",
    "training_error_cv_k = 1. - lr_cv_k.score(X_train_k, y_train_k) # COMPLETE\n",
    "test_error_cv_k = 1. - lr_cv_k.score(X_test_k, y_test_k) # COMPLETE\n",
    "\n",
    "print (\"Best logistic regression training error with CV: %f\" % training_error_cv_k)\n",
    "print (\"Best logistic regression test error with CV: %f\" % test_error_cv_k)"
   ]
  },
  {
   "cell_type": "code",
   "execution_count": 13,
   "metadata": {},
   "outputs": [
    {
     "name": "stdout",
     "output_type": "stream",
     "text": [
      "[['linear', {'C': 1}, 0.8719999999999999], ['poly', {'C': 1, 'gamma': 0.1}, 0.891], ['rbf', {'C': 10, 'gamma': 0.01}, 0.9110000000000001]]\n",
      "[['logistic regression', 0.8343333333333334], ['logistic regression cv', 0.8666521739130435]]\n"
     ]
    }
   ],
   "source": [
    "###########\n",
    "# TO DO 4 #\n",
    "###########\n",
    "\n",
    "data_svm_k = [\n",
    "    ['linear', grid_search_l_k.best_params_, grid_search_l_k.best_score_],\n",
    "    ['poly', grid_search_p_k.best_params_, grid_search_p_k.best_score_],\n",
    "    ['rbf', grid_search_rbf_k.best_params_, grid_search_rbf_k.best_score_]\n",
    "]\n",
    "data_lr_k = [\n",
    "    ['logistic regression', 1 - test_error_k],\n",
    "    ['logistic regression cv', 1 - test_error_cv_k]\n",
    "]\n",
    "print(data_svm_k)\n",
    "print(data_lr_k)"
   ]
  },
  {
   "attachments": {},
   "cell_type": "markdown",
   "metadata": {},
   "source": [
    "### Compare and comment\n",
    "The test shows that the best score is reached by GridSearchCV with rbf kernel and parameters {*C*:10, *gamma*:0.01}.\n",
    "\n",
    "From the test we can observe that the scores using logistic regression increases of 0.03% using 5-fold cross validation. In this test all kernel of SVM has a better score than the logistic ones, with the **linear** kernel (the simple one) better then 5-fold logistic regression by only 0.005%."
   ]
  },
  {
   "cell_type": "code",
   "execution_count": 14,
   "metadata": {},
   "outputs": [
    {
     "name": "stdout",
     "output_type": "stream",
     "text": [
      "INPUT:\n"
     ]
    },
    {
     "data": {
      "image/png": "[encoded data removed]",
      "text/plain": [
       "<Figure size 432x288 with 1 Axes>"
      ]
     },
     "metadata": {
      "needs_background": "light"
     },
     "output_type": "display_data"
    },
    {
     "name": "stdout",
     "output_type": "stream",
     "text": [
      "LABEL: 9\n",
      "SVM_k PREDICT:  9\n",
      "LR_k PREDICT:  3\n"
     ]
    }
   ],
   "source": [
    "###########\n",
    "# TO DO 5 #\n",
    "###########\n",
    "\n",
    "prediction_lr_k = lr_k.predict(X_test_k)\n",
    "prediction_svm_k = best_SVM_k.predict(X_test_k)\n",
    "\n",
    "misclassified_k = np.where(y_test_k!=prediction_lr_k)[0]\n",
    "classified_k = np.where(y_test_k==prediction_svm_k)[0]\n",
    "foo_k = -1\n",
    "for i_k in classified_k:\n",
    "    for j_k in misclassified_k:\n",
    "        if i_k==j_k:\n",
    "            foo_k = i_k\n",
    "            break\n",
    "        if foo_k != -1:\n",
    "            break\n",
    "    if foo_k != -1:\n",
    "        break\n",
    "\n",
    "plot_digit(X_test_k, y_test_k, foo_k)\n",
    "print(\"SVM_k PREDICT: \", prediction_svm_k[foo_k])\n",
    "print(\"LR_k PREDICT: \", prediction_lr_k[foo_k])"
   ]
  },
  {
   "cell_type": "markdown",
   "metadata": {},
   "source": [
    "## TO DO 7\n",
    "Compare and comment on the differences with the results above."
   ]
  },
  {
   "cell_type": "code",
   "execution_count": null,
   "metadata": {},
   "outputs": [],
   "source": []
  }
 ],
 "metadata": {
  "kernelspec": {
   "display_name": "base",
   "language": "python",
   "name": "python3"
  },
  "language_info": {
   "codemirror_mode": {
    "name": "ipython",
    "version": 3
   },
   "file_extension": ".py",
   "mimetype": "text/x-python",
   "name": "python",
   "nbconvert_exporter": "python",
   "pygments_lexer": "ipython3",
   "version": "3.9.12"
  },
  "vscode": {
   "interpreter": {
    "hash": "d6130dc0ca154d48d4309febcf6869dce2f08df7913a461d2bad8c19ec3dd616"
   }
  }
 },
 "nbformat": 4,
 "nbformat_minor": 4
}

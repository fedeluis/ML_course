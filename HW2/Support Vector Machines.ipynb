{
 "cells": [
  {
   "cell_type": "markdown",
   "metadata": {},
   "source": [
    "# SVM for classification, without and with kernels\n",
    "\n",
    "In this notebook we are going to explore the use of Support Vector Machines (SVMs) for image classification. We are going to use the famous MNIST dataset, that is a dataset of handwritten digits. We get the data from mldata.org, that is a public repository for machine learning data.\n",
    "\n",
    "The dataset consists of 70,000 images of handwritten digits (i.e., 0, 1, ... 9). Each image is 28 pixels by 28 pixels and we can think of it as a vector of 28x28 = 784 numbers. Each number is an integer between 0 and 255. For each image we have the corresponding label (i.e., 0, 1, ..., 9)."
   ]
  },
  {
   "cell_type": "code",
   "execution_count": 1,
   "metadata": {},
   "outputs": [],
   "source": [
    "#load the required packages\n",
    "\n",
    "%matplotlib inline  \n",
    "\n",
    "import numpy as np\n",
    "import matplotlib.pyplot as plt\n",
    "\n",
    "import sklearn\n",
    "from sklearn.datasets import fetch_openml"
   ]
  },
  {
   "cell_type": "code",
   "execution_count": 2,
   "metadata": {},
   "outputs": [],
   "source": [
    "#fix your ID (\"numero di matricola\") and the seed for random generator\n",
    "ID = 2074282 # COMPLETE\n",
    "np.random.seed(ID)"
   ]
  },
  {
   "cell_type": "markdown",
   "metadata": {},
   "source": [
    "Now let's load the dataset. 'data' contains the input, 'target' contains the label. We normalize the data by dividing each value by 255 so that each value is in [0,1]"
   ]
  },
  {
   "cell_type": "code",
   "execution_count": 3,
   "metadata": {},
   "outputs": [
    {
     "name": "stderr",
     "output_type": "stream",
     "text": [
      "c:\\Users\\Asus\\anaconda3\\envs\\gpu5\\lib\\site-packages\\sklearn\\datasets\\_openml.py:932: FutureWarning: The default value of `parser` will change from `'liac-arff'` to `'auto'` in 1.4. You can set `parser='auto'` to silence this warning. Therefore, an `ImportError` will be raised from 1.4 if the dataset is dense and pandas is not installed. Note that the pandas parser may return different data types. See the Notes Section in fetch_openml's API doc for details.\n",
      "  warn(\n"
     ]
    }
   ],
   "source": [
    "#load the MNIST dataset and let's normalize the features so that each value is in [0,1]\n",
    "mnist = fetch_openml('mnist_784', version=1)\n",
    "# rescale the data\n",
    "X, y = mnist.data.values / 255., mnist.target.values"
   ]
  },
  {
   "cell_type": "markdown",
   "metadata": {},
   "source": [
    "Now split into training and test. We keep 500 samples in the training set. Make sure that each label is present at least 10 times\n",
    "in training. If it is not, then keep adding permutations to the initial data until this \n",
    "happens.\n",
    "\n",
    "**IMPORTANT**: if you cannot run the SVM with 500 samples or 1000 samples (see below), try with a smaller number of samples (e.g. 200 here and 400 below)."
   ]
  },
  {
   "cell_type": "code",
   "execution_count": 4,
   "metadata": {},
   "outputs": [
    {
     "name": "stdout",
     "output_type": "stream",
     "text": [
      "Labels and frequencies in training dataset: \n"
     ]
    },
    {
     "data": {
      "text/plain": [
       "(array(['0', '1', '2', '3', '4', '5', '6', '7', '8', '9'], dtype=object),\n",
       " array([48, 54, 53, 51, 45, 51, 59, 53, 42, 44], dtype=int64))"
      ]
     },
     "execution_count": 4,
     "metadata": {},
     "output_type": "execute_result"
    }
   ],
   "source": [
    "#random permute the data and split into training and test taking the first 500\n",
    "#data samples as training and the rests as test\n",
    "permutation = np.random.permutation(X.shape[0])\n",
    "\n",
    "X = X[permutation]\n",
    "y = y[permutation]\n",
    "\n",
    "m_training = 500\n",
    "\n",
    "X_train, X_test = X[:m_training], X[m_training:]\n",
    "y_train, y_test = y[:m_training], y[m_training:]\n",
    "\n",
    "print(\"Labels and frequencies in training dataset: \")\n",
    "np.unique(y_train, return_counts = True)"
   ]
  },
  {
   "cell_type": "markdown",
   "metadata": {},
   "source": [
    "We now provide a function to print an image in the dataset and the corresponding true label given the index of the image in the dataset."
   ]
  },
  {
   "cell_type": "code",
   "execution_count": 5,
   "metadata": {},
   "outputs": [],
   "source": [
    "#function for plotting a digit and printing the corresponding labe\n",
    "def plot_digit(X_matrix, labels, index):\n",
    "    print(\"INPUT:\")\n",
    "    plt.imshow(\n",
    "        X_matrix[index].reshape(28,28),\n",
    "        cmap          = plt.cm.gray_r,\n",
    "        interpolation = \"nearest\"\n",
    "    )\n",
    "    plt.show()\n",
    "    print(\"LABEL: %s\" % labels[index])\n",
    "    return"
   ]
  },
  {
   "cell_type": "markdown",
   "metadata": {},
   "source": [
    "As an example, let's print the 100-th image in X_train and the 40,000-th image in X_test and their true labels."
   ]
  },
  {
   "cell_type": "code",
   "execution_count": 6,
   "metadata": {},
   "outputs": [
    {
     "name": "stdout",
     "output_type": "stream",
     "text": [
      "INPUT:\n"
     ]
    },
    {
     "data": {
      "image/png": "[encoded data removed]",
      "text/plain": [
       "<Figure size 432x288 with 1 Axes>"
      ]
     },
     "metadata": {
      "needs_background": "light"
     },
     "output_type": "display_data"
    },
    {
     "name": "stdout",
     "output_type": "stream",
     "text": [
      "LABEL: 0\n",
      "INPUT:\n"
     ]
    },
    {
     "data": {
      "image/png": "[encoded data removed]",
      "text/plain": [
       "<Figure size 432x288 with 1 Axes>"
      ]
     },
     "metadata": {
      "needs_background": "light"
     },
     "output_type": "display_data"
    },
    {
     "name": "stdout",
     "output_type": "stream",
     "text": [
      "LABEL: 1\n"
     ]
    }
   ],
   "source": [
    "#let's try the plotting function\n",
    "plot_digit(X_train,y_train,100)\n",
    "plot_digit(X_test,y_test,40000)"
   ]
  },
  {
   "cell_type": "markdown",
   "metadata": {},
   "source": [
    "## TO DO 1\n",
    "Run SVM with 5-fold cross validation to pick the best kernel and values of parameters. We provide some potential choice for parameters, but change the grid if needed (e.g., it takes too long). For the SVM for classification use SVC from sklearn.svm; for the grid search we suggest you use GridSearchCV from sklearn.model_selection, but you can implement your own cross-validation for model selection if you prefer.\n",
    "\n",
    "Finally, print the best parameters used as well as the score obtained by the best model"
   ]
  },
  {
   "cell_type": "code",
   "execution_count": 7,
   "metadata": {},
   "outputs": [
    {
     "name": "stdout",
     "output_type": "stream",
     "text": [
      "RESULTS FOR LINEAR KERNEL\n",
      "\n",
      "Best parameters set found:\n",
      "{'C': 1}\n",
      "Score with best parameters:\n",
      "0.8240000000000001\n",
      "\n",
      "All scores on the grid:\n",
      "{'mean_fit_time': array([0.03680048, 0.03439975, 0.0357985 ]), 'std_fit_time': array([0.00567033, 0.00205942, 0.00256186]), 'mean_score_time': array([0.00960007, 0.01440091, 0.01040044]), 'std_score_time': array([0.00174375, 0.00508328, 0.00300579]), 'param_C': masked_array(data=[1, 10, 100],\n",
      "             mask=[False, False, False],\n",
      "       fill_value='?',\n",
      "            dtype=object), 'params': [{'C': 1}, {'C': 10}, {'C': 100}], 'split0_test_score': array([0.86, 0.86, 0.86]), 'split1_test_score': array([0.81, 0.81, 0.81]), 'split2_test_score': array([0.77, 0.77, 0.77]), 'split3_test_score': array([0.84, 0.84, 0.84]), 'split4_test_score': array([0.84, 0.84, 0.84]), 'mean_test_score': array([0.824, 0.824, 0.824]), 'std_test_score': array([0.03136877, 0.03136877, 0.03136877]), 'rank_test_score': array([1, 1, 1])}\n",
      "\n",
      "RESULTS FOR POLY DEGREE=2 KERNEL\n",
      "\n",
      "Best parameters set found:\n",
      "{'C': 1, 'gamma': 0.1}\n",
      "Score with best parameters:\n",
      "0.85\n",
      "\n",
      "All scores on the grid:\n",
      "{'mean_fit_time': array([0.03860078, 0.03720055, 0.03960032, 0.04099927, 0.0399992 ,\n",
      "       0.03739891, 0.04019942, 0.04560037, 0.03699899]), 'std_fit_time': array([0.00080203, 0.0017221 , 0.00349724, 0.00260839, 0.00228039,\n",
      "       0.0016245 , 0.0024821 , 0.01189325, 0.00089703]), 'mean_score_time': array([0.02680092, 0.01700268, 0.01540022, 0.01620016, 0.01300082,\n",
      "       0.01000075, 0.01140056, 0.01140008, 0.00920072]), 'std_score_time': array([0.0016006 , 0.00561844, 0.00162425, 0.00526834, 0.0032855 ,\n",
      "       0.0020979 , 0.00049   , 0.0018555 , 0.00324996]), 'param_C': masked_array(data=[1, 1, 1, 10, 10, 10, 100, 100, 100],\n",
      "             mask=[False, False, False, False, False, False, False, False,\n",
      "                   False],\n",
      "       fill_value='?',\n",
      "            dtype=object), 'param_gamma': masked_array(data=[0.01, 0.1, 1.0, 0.01, 0.1, 1.0, 0.01, 0.1, 1.0],\n",
      "             mask=[False, False, False, False, False, False, False, False,\n",
      "                   False],\n",
      "       fill_value='?',\n",
      "            dtype=object), 'params': [{'C': 1, 'gamma': 0.01}, {'C': 1, 'gamma': 0.1}, {'C': 1, 'gamma': 1.0}, {'C': 10, 'gamma': 0.01}, {'C': 10, 'gamma': 0.1}, {'C': 10, 'gamma': 1.0}, {'C': 100, 'gamma': 0.01}, {'C': 100, 'gamma': 0.1}, {'C': 100, 'gamma': 1.0}], 'split0_test_score': array([0.88, 0.87, 0.87, 0.87, 0.87, 0.87, 0.87, 0.87, 0.87]), 'split1_test_score': array([0.82, 0.85, 0.85, 0.85, 0.85, 0.85, 0.85, 0.85, 0.85]), 'split2_test_score': array([0.77, 0.83, 0.83, 0.82, 0.83, 0.83, 0.83, 0.83, 0.83]), 'split3_test_score': array([0.77, 0.86, 0.86, 0.86, 0.86, 0.86, 0.86, 0.86, 0.86]), 'split4_test_score': array([0.86, 0.84, 0.84, 0.84, 0.84, 0.84, 0.84, 0.84, 0.84]), 'mean_test_score': array([0.82 , 0.85 , 0.85 , 0.848, 0.85 , 0.85 , 0.85 , 0.85 , 0.85 ]), 'std_test_score': array([0.04516636, 0.01414214, 0.01414214, 0.01720465, 0.01414214,\n",
      "       0.01414214, 0.01414214, 0.01414214, 0.01414214]), 'rank_test_score': array([9, 1, 1, 8, 1, 1, 1, 1, 1])}\n",
      "\n",
      "RESULTS FOR rbf KERNEL\n",
      "\n",
      "Best parameters set found:\n",
      "{'C': 10, 'gamma': 0.01}\n",
      "Score with best parameters:\n",
      "0.8700000000000001\n",
      "\n",
      "All scores on the grid:\n",
      "{'mean_fit_time': array([0.04454484, 0.0688714 , 0.06779652, 0.04894109, 0.06909781,\n",
      "       0.0688364 , 0.04948149, 0.06584835, 0.06784053]), 'std_fit_time': array([0.00162583, 0.00355674, 0.00314688, 0.00209458, 0.00331958,\n",
      "       0.00331903, 0.00111395, 0.00159066, 0.00069717]), 'mean_score_time': array([0.03537345, 0.04603105, 0.03231254, 0.02500467, 0.02628546,\n",
      "       0.03115263, 0.02543392, 0.03012691, 0.02561603]), 'std_score_time': array([0.00367234, 0.00700579, 0.00322274, 0.00209565, 0.00180292,\n",
      "       0.00133955, 0.00202138, 0.00300824, 0.00521984]), 'param_C': masked_array(data=[1, 1, 1, 10, 10, 10, 100, 100, 100],\n",
      "             mask=[False, False, False, False, False, False, False, False,\n",
      "                   False],\n",
      "       fill_value='?',\n",
      "            dtype=object), 'param_gamma': masked_array(data=[0.01, 0.1, 1.0, 0.01, 0.1, 1.0, 0.01, 0.1, 1.0],\n",
      "             mask=[False, False, False, False, False, False, False, False,\n",
      "                   False],\n",
      "       fill_value='?',\n",
      "            dtype=object), 'params': [{'C': 1, 'gamma': 0.01}, {'C': 1, 'gamma': 0.1}, {'C': 1, 'gamma': 1.0}, {'C': 10, 'gamma': 0.01}, {'C': 10, 'gamma': 0.1}, {'C': 10, 'gamma': 1.0}, {'C': 100, 'gamma': 0.01}, {'C': 100, 'gamma': 0.1}, {'C': 100, 'gamma': 1.0}], 'split0_test_score': array([0.88, 0.48, 0.11, 0.9 , 0.55, 0.11, 0.9 , 0.55, 0.11]), 'split1_test_score': array([0.87, 0.55, 0.12, 0.87, 0.62, 0.12, 0.87, 0.62, 0.12]), 'split2_test_score': array([0.79, 0.47, 0.12, 0.83, 0.52, 0.12, 0.83, 0.52, 0.12]), 'split3_test_score': array([0.87, 0.57, 0.12, 0.87, 0.57, 0.12, 0.87, 0.57, 0.12]), 'split4_test_score': array([0.88, 0.49, 0.12, 0.88, 0.56, 0.12, 0.88, 0.56, 0.12]), 'mean_test_score': array([0.858, 0.512, 0.118, 0.87 , 0.564, 0.118, 0.87 , 0.564, 0.118]), 'std_test_score': array([0.03429286, 0.0401995 , 0.004     , 0.02280351, 0.03261901,\n",
      "       0.004     , 0.02280351, 0.03261901, 0.004     ]), 'rank_test_score': array([3, 6, 7, 1, 4, 7, 1, 4, 7])}\n"
     ]
    }
   ],
   "source": [
    "#import SVC\n",
    "from sklearn.svm import SVC\n",
    "#import for Cross-Validation\n",
    "from sklearn.model_selection import GridSearchCV\n",
    "\n",
    "# parameters for linear SVM\n",
    "parameters = {'C': [1, 10, 100]}\n",
    "\n",
    "#run linear SVM\n",
    "linear_SVM = SVC(kernel='linear')\n",
    "\n",
    "#find best model using 5-fold CV \n",
    "#and train it using all the training data\n",
    "\n",
    "# ADD CODE\n",
    "grid_search_l = GridSearchCV(linear_SVM, parameters, cv=5, n_jobs=-1)\n",
    "grid_search_l.fit(X_train, y_train)\n",
    "#\n",
    "\n",
    "print ('RESULTS FOR LINEAR KERNEL\\n')\n",
    "\n",
    "print(\"Best parameters set found:\")\n",
    "# ADD CODE\n",
    "print(grid_search_l.best_params_)\n",
    "#\n",
    "\n",
    "print(\"Score with best parameters:\")\n",
    "# ADD CODE\n",
    "print(grid_search_l.best_score_)\n",
    "#\n",
    "\n",
    "print(\"\\nAll scores on the grid:\")\n",
    "# ADD CODE\n",
    "print(grid_search_l.cv_results_)\n",
    "#\n",
    "\n",
    "# parameters for poly with degree 2 kernel\n",
    "parameters = {'C': [1, 10, 100],'gamma':[0.01,0.1,1.]}\n",
    "\n",
    "#run SVM with poly of degree 2 kernel\n",
    "poly2_SVM = SVC(kernel='poly',degree=2)\n",
    "\n",
    "# ADD CODE: DO THE SAME AS ABOVE FOR POLYNOMIAL KERNEL WITH DEGREE=2\n",
    "#find best model using 5-fold CV \n",
    "#and train it using all the training data\n",
    "grid_search_p = GridSearchCV(poly2_SVM, parameters, cv=5, n_jobs=-1)\n",
    "grid_search_p.fit(X_train, y_train)\n",
    "#\n",
    "\n",
    "print ('\\nRESULTS FOR POLY DEGREE=2 KERNEL\\n')\n",
    "\n",
    "print(\"Best parameters set found:\")\n",
    "# ADD CODE\n",
    "print(grid_search_p.best_params_)\n",
    "#\n",
    "\n",
    "print(\"Score with best parameters:\")\n",
    "# ADD CODE\n",
    "print(grid_search_p.best_score_)\n",
    "#\n",
    "\n",
    "print(\"\\nAll scores on the grid:\")\n",
    "# ADD CODE\n",
    "print(grid_search_p.cv_results_)\n",
    "#\n",
    "\n",
    "# parameters for rbf SVM\n",
    "parameters = {'C': [1, 10, 100],'gamma':[0.01,0.1,1.]}\n",
    "\n",
    "#run SVM with rbf kernel\n",
    "rbf_SVM = SVC(kernel='rbf')\n",
    "# ADD CODE: DO THE SAME AS ABOVE FOR RBF KERNEL\n",
    "#find best model using 5-fold CV \n",
    "#and train it using all the training data\n",
    "grid_search_rbf = GridSearchCV(rbf_SVM, parameters, cv=5, n_jobs=-1)\n",
    "grid_search_rbf.fit(X_train, y_train)\n",
    "#\n",
    "\n",
    "print ('\\nRESULTS FOR rbf KERNEL\\n')\n",
    "\n",
    "print(\"Best parameters set found:\")\n",
    "# ADD CODE\n",
    "print(grid_search_rbf.best_params_)\n",
    "#\n",
    "\n",
    "print(\"Score with best parameters:\")\n",
    "# ADD CODE\n",
    "print(grid_search_rbf.best_score_)\n",
    "#\n",
    "\n",
    "print(\"\\nAll scores on the grid:\")\n",
    "# ADD CODE\n",
    "print(grid_search_rbf.cv_results_)\n",
    "#"
   ]
  },
  {
   "cell_type": "markdown",
   "metadata": {},
   "source": [
    "## TO DO 2\n",
    "For the \"best\" SVM kernel and choice of parameters from above, train the model on the entire training set and measure the training error. Also make predictions on the test set and measure the test error. Print the training and the test error."
   ]
  },
  {
   "cell_type": "code",
   "execution_count": 8,
   "metadata": {},
   "outputs": [
    {
     "name": "stdout",
     "output_type": "stream",
     "text": [
      "Best SVM training error: 0.000000\n",
      "Best SVM test error: 0.107712\n"
     ]
    }
   ],
   "source": [
    "#get training and test error for the best SVM model from CV\n",
    "best_SVM = GridSearchCV(rbf_SVM, {'C':[10], 'gamma':[0.01]}, cv=5, n_jobs=-1) # ADD CODE\n",
    "\n",
    "# fit the model on the entire training set\n",
    "# ADD CODE\n",
    "best_SVM.fit(X_train, y_train)\n",
    "#\n",
    "\n",
    "#get the training and test error\n",
    "training_error = 1. - best_SVM.score(X_train,y_train)\n",
    "test_error = 1. - best_SVM.score(X_test,y_test)\n",
    "\n",
    "print (\"Best SVM training error: %f\" % training_error)\n",
    "print (\"Best SVM test error: %f\" % test_error)"
   ]
  },
  {
   "cell_type": "markdown",
   "metadata": {},
   "source": [
    "## Use logistic regression for comparison\n",
    "\n",
    "## TO DO 3\n",
    "\n",
    "Just for comparison let's also use logistic regression, first with the default values of the parameter for regularization and then with cross-validation to fix the value of the parameters. For cross validation, use 5-fold cross validation and the default values of the regularization parameters for the function linear_model.LogisticRegressionCV(...).\n",
    "\n",
    "Note: during training you may receive a \"ConvergenceWarning\" that indicates that the logistic regression solver did not converge to the optimal result. Given the scope of the notebook, we can ignore such warning but in real-world scenarios you should take corrective measures such as increasing the number of training iterations and/or the runtime for training or picking a different optimizer"
   ]
  },
  {
   "cell_type": "code",
   "execution_count": 9,
   "metadata": {},
   "outputs": [
    {
     "name": "stderr",
     "output_type": "stream",
     "text": [
      "c:\\Users\\Asus\\anaconda3\\envs\\gpu5\\lib\\site-packages\\sklearn\\linear_model\\_logistic.py:458: ConvergenceWarning: lbfgs failed to converge (status=1):\n",
      "STOP: TOTAL NO. of ITERATIONS REACHED LIMIT.\n",
      "\n",
      "Increase the number of iterations (max_iter) or scale the data as shown in:\n",
      "    https://scikit-learn.org/stable/modules/preprocessing.html\n",
      "Please also refer to the documentation for alternative solver options:\n",
      "    https://scikit-learn.org/stable/modules/linear_model.html#logistic-regression\n",
      "  n_iter_i = _check_optimize_result(\n"
     ]
    },
    {
     "name": "stdout",
     "output_type": "stream",
     "text": [
      "Best logistic regression training error: 0.000000\n",
      "Best logistic regression test error: 0.165799\n"
     ]
    },
    {
     "name": "stderr",
     "output_type": "stream",
     "text": [
      "c:\\Users\\Asus\\anaconda3\\envs\\gpu5\\lib\\site-packages\\sklearn\\linear_model\\_logistic.py:458: ConvergenceWarning: lbfgs failed to converge (status=1):\n",
      "STOP: TOTAL NO. of ITERATIONS REACHED LIMIT.\n",
      "\n",
      "Increase the number of iterations (max_iter) or scale the data as shown in:\n",
      "    https://scikit-learn.org/stable/modules/preprocessing.html\n",
      "Please also refer to the documentation for alternative solver options:\n",
      "    https://scikit-learn.org/stable/modules/linear_model.html#logistic-regression\n",
      "  n_iter_i = _check_optimize_result(\n"
     ]
    },
    {
     "name": "stdout",
     "output_type": "stream",
     "text": [
      "Best logistic regression training error with CV: 0.002000\n",
      "Best logistic regression test error with CV: 0.162906\n"
     ]
    }
   ],
   "source": [
    "from sklearn import linear_model\n",
    "\n",
    "lr = linear_model.LogisticRegression()\n",
    "# fit the model on the training data\n",
    "# ADD CODE\n",
    "lr.fit(X_train,y_train)\n",
    "#\n",
    "\n",
    "#compute training and test error for model above\n",
    "training_error = 1. - lr.score(X_train, y_train) # COMPLETE\n",
    "test_error = 1. - lr.score(X_test, y_test) # COMPLETE\n",
    "\n",
    "print (\"Best logistic regression training error: %f\" % training_error)\n",
    "print (\"Best logistic regression test error: %f\" % test_error)\n",
    "\n",
    "#logistic regression with 5-fold CV: you can use use linear_model.LogisticRegressionCV\n",
    "# use 5-fold CV to find the best choice of the parameter, than train\n",
    "# the model on the entire training set\n",
    "lr_cv = linear_model.LogisticRegressionCV(cv=5, n_jobs=-1) # COMPLETE\n",
    "lr_cv.fit(X_train,  y_train)\n",
    "training_error_cv = 1. - lr_cv.score(X_train, y_train) # COMPLETE\n",
    "test_error_cv = 1. - lr_cv.score(X_test, y_test) # COMPLETE\n",
    "\n",
    "print (\"Best logistic regression training error with CV: %f\" % training_error_cv)\n",
    "print (\"Best logistic regression test error with CV: %f\" % test_error_cv)"
   ]
  },
  {
   "cell_type": "markdown",
   "metadata": {},
   "source": [
    "## TO DO 4 \n",
    "Compare and comment the results from SVM and logistic regression."
   ]
  },
  {
   "cell_type": "markdown",
   "metadata": {},
   "source": [
    "## TO DO 5\n",
    "Write the code that finds and plots a digit that is missclassified by logistic regression (optimized for the regularization parameter) and correctly classified by the \"best\" SVM."
   ]
  },
  {
   "cell_type": "code",
   "execution_count": 10,
   "metadata": {},
   "outputs": [
    {
     "name": "stdout",
     "output_type": "stream",
     "text": [
      "INPUT:\n"
     ]
    },
    {
     "data": {
      "image/png": "[encoded data removed]",
      "text/plain": [
       "<Figure size 432x288 with 1 Axes>"
      ]
     },
     "metadata": {
      "needs_background": "light"
     },
     "output_type": "display_data"
    },
    {
     "name": "stdout",
     "output_type": "stream",
     "text": [
      "LABEL: 4\n",
      "PREDICT:  8\n"
     ]
    }
   ],
   "source": [
    "# ADD CODE\n",
    "from sklearn import metrics\n",
    "from random import choice\n",
    "\n",
    "prediction_lr = lr.predict(X_test)\n",
    "prediction_svm = best_SVM.predict(X_test)\n",
    "cm_lr = metrics.confusion_matrix(y_test, prediction_lr)\n",
    "cm_svm = metrics.confusion_matrix(y_test, prediction_svm)\n",
    "\"\"\"\n",
    "plt.figure(figsize=(9,9))\n",
    "plt.imshow(cm, interpolation='nearest', cmap='Pastel1')\n",
    "plt.title('Confusion matrix', size = 15)\n",
    "plt.colorbar()\n",
    "tick_marks = np.arange(10)\n",
    "plt.xticks(tick_marks, [\"0\", \"1\", \"2\", \"3\", \"4\", \"5\", \"6\", \"7\", \"8\", \"9\"], rotation=45, size = 10)\n",
    "plt.yticks(tick_marks, [\"0\", \"1\", \"2\", \"3\", \"4\", \"5\", \"6\", \"7\", \"8\", \"9\"], size = 10)\n",
    "plt.tight_layout()\n",
    "plt.ylabel('Actual label', size = 15)\n",
    "plt.xlabel('Predicted label', size = 15)\n",
    "width, height = cm.shape\n",
    "for x1 in range(width):\n",
    "    for y1 in range(height):\n",
    "        plt.annotate(str(cm[x1][y1]), xy=(y1, x1),  horizontalalignment='center', verticalalignment='center')\n",
    "\"\"\"\n",
    "misclassified = np.where(y_test!=prediction_lr)[0]\n",
    "classified = np.where(y_test==prediction_svm)[0]\n",
    "foo = []\n",
    "for i in classified:\n",
    "    for j in misclassified:\n",
    "        if i==j:\n",
    "            foo.append(i)\n",
    "\n",
    "foo1 = foo[0] #choice(len(foo))\n",
    "plot_digit(X_test, y_test, foo1)\n",
    "print(\"PREDICT: \", y_test[misclassified[foo1]])"
   ]
  },
  {
   "cell_type": "markdown",
   "metadata": {},
   "source": [
    "## More data\n",
    "Now let's do the same but using 1000 data points for training. \n",
    "\n",
    "## TO DO 6\n",
    "Repeat the entire analysis above using 1000 samples. Of course you can copy the code from above (but no need to copy markdown comments)."
   ]
  },
  {
   "cell_type": "code",
   "execution_count": 11,
   "metadata": {},
   "outputs": [
    {
     "name": "stdout",
     "output_type": "stream",
     "text": [
      "Labels and frequencies in training dataset: \n",
      "RESULTS FOR LINEAR KERNEL\n",
      "\n",
      "Best parameters set found:\n",
      "{'C': 1}\n",
      "Score with best parameters:\n",
      "0.8719999999999999\n",
      "\n",
      "All scores on the grid:\n",
      "{'mean_fit_time': array([0.11295619, 0.10992718, 0.09712729]), 'std_fit_time': array([0.00775702, 0.00483666, 0.0121911 ]), 'mean_score_time': array([0.10041709, 0.09845586, 0.05896888]), 'std_score_time': array([0.00598116, 0.01158723, 0.037739  ]), 'param_C': masked_array(data=[1, 10, 100],\n",
      "             mask=[False, False, False],\n",
      "       fill_value='?',\n",
      "            dtype=object), 'params': [{'C': 1}, {'C': 10}, {'C': 100}], 'split0_test_score': array([0.875, 0.875, 0.875]), 'split1_test_score': array([0.875, 0.875, 0.875]), 'split2_test_score': array([0.855, 0.855, 0.855]), 'split3_test_score': array([0.88, 0.88, 0.88]), 'split4_test_score': array([0.875, 0.875, 0.875]), 'mean_test_score': array([0.872, 0.872, 0.872]), 'std_test_score': array([0.0087178, 0.0087178, 0.0087178]), 'rank_test_score': array([1, 1, 1])}\n",
      "\n",
      "RESULTS FOR POLY DEGREE=2 KERNEL\n",
      "\n",
      "Best parameters set found:\n",
      "{'C': 1, 'gamma': 0.1}\n",
      "Score with best parameters:\n",
      "0.891\n",
      "\n",
      "All scores on the grid:\n",
      "{'mean_fit_time': array([0.15629754, 0.13314323, 0.13360176, 0.12591949, 0.17309966,\n",
      "       0.13542342, 0.13157072, 0.13112049, 0.11168666]), 'std_fit_time': array([0.00616228, 0.00432606, 0.00677612, 0.00447469, 0.03333462,\n",
      "       0.01307215, 0.01565973, 0.01107576, 0.00944706]), 'mean_score_time': array([0.12362309, 0.08760862, 0.08252645, 0.0842495 , 0.09491882,\n",
      "       0.07244916, 0.07346659, 0.0797698 , 0.03790307]), 'std_score_time': array([0.00419626, 0.01676618, 0.02036673, 0.02251636, 0.01571109,\n",
      "       0.01236052, 0.01544943, 0.01025753, 0.01590961]), 'param_C': masked_array(data=[1, 1, 1, 10, 10, 10, 100, 100, 100],\n",
      "             mask=[False, False, False, False, False, False, False, False,\n",
      "                   False],\n",
      "       fill_value='?',\n",
      "            dtype=object), 'param_gamma': masked_array(data=[0.01, 0.1, 1.0, 0.01, 0.1, 1.0, 0.01, 0.1, 1.0],\n",
      "             mask=[False, False, False, False, False, False, False, False,\n",
      "                   False],\n",
      "       fill_value='?',\n",
      "            dtype=object), 'params': [{'C': 1, 'gamma': 0.01}, {'C': 1, 'gamma': 0.1}, {'C': 1, 'gamma': 1.0}, {'C': 10, 'gamma': 0.01}, {'C': 10, 'gamma': 0.1}, {'C': 10, 'gamma': 1.0}, {'C': 100, 'gamma': 0.01}, {'C': 100, 'gamma': 0.1}, {'C': 100, 'gamma': 1.0}], 'split0_test_score': array([0.875, 0.89 , 0.89 , 0.89 , 0.89 , 0.89 , 0.89 , 0.89 , 0.89 ]), 'split1_test_score': array([0.87 , 0.91 , 0.91 , 0.905, 0.91 , 0.91 , 0.91 , 0.91 , 0.91 ]), 'split2_test_score': array([0.83 , 0.875, 0.875, 0.875, 0.875, 0.875, 0.875, 0.875, 0.875]), 'split3_test_score': array([0.88, 0.9 , 0.9 , 0.9 , 0.9 , 0.9 , 0.9 , 0.9 , 0.9 ]), 'split4_test_score': array([0.87, 0.88, 0.88, 0.88, 0.88, 0.88, 0.88, 0.88, 0.88]), 'mean_test_score': array([0.865, 0.891, 0.891, 0.89 , 0.891, 0.891, 0.891, 0.891, 0.891]), 'std_test_score': array([0.01788854, 0.01280625, 0.01280625, 0.01140175, 0.01280625,\n",
      "       0.01280625, 0.01280625, 0.01280625, 0.01280625]), 'rank_test_score': array([9, 1, 1, 8, 1, 1, 1, 1, 1])}\n",
      "\n",
      "RESULTS FOR rbf KERNEL\n",
      "\n",
      "Best parameters set found:\n",
      "{'C': 10, 'gamma': 0.01}\n",
      "Score with best parameters:\n",
      "0.9110000000000001\n",
      "\n",
      "All scores on the grid:\n",
      "{'mean_fit_time': array([0.19242535, 0.33104601, 0.29540071, 0.16720066, 0.31140079,\n",
      "       0.32360044, 0.15500097, 0.33896356, 0.28630638]), 'std_fit_time': array([0.03075934, 0.01405657, 0.0131231 , 0.01810291, 0.01773798,\n",
      "       0.02302739, 0.01173059, 0.03366594, 0.03305321]), 'mean_score_time': array([0.13319879, 0.15139909, 0.1773982 , 0.13279891, 0.15119858,\n",
      "       0.18039813, 0.12361302, 0.15036874, 0.10891399]), 'std_score_time': array([0.00318748, 0.01994577, 0.00783912, 0.03163233, 0.00915205,\n",
      "       0.02859814, 0.0216321 , 0.01198804, 0.00934618]), 'param_C': masked_array(data=[1, 1, 1, 10, 10, 10, 100, 100, 100],\n",
      "             mask=[False, False, False, False, False, False, False, False,\n",
      "                   False],\n",
      "       fill_value='?',\n",
      "            dtype=object), 'param_gamma': masked_array(data=[0.01, 0.1, 1.0, 0.01, 0.1, 1.0, 0.01, 0.1, 1.0],\n",
      "             mask=[False, False, False, False, False, False, False, False,\n",
      "                   False],\n",
      "       fill_value='?',\n",
      "            dtype=object), 'params': [{'C': 1, 'gamma': 0.01}, {'C': 1, 'gamma': 0.1}, {'C': 1, 'gamma': 1.0}, {'C': 10, 'gamma': 0.01}, {'C': 10, 'gamma': 0.1}, {'C': 10, 'gamma': 1.0}, {'C': 100, 'gamma': 0.01}, {'C': 100, 'gamma': 0.1}, {'C': 100, 'gamma': 1.0}], 'split0_test_score': array([0.895, 0.69 , 0.125, 0.92 , 0.715, 0.125, 0.92 , 0.715, 0.125]), 'split1_test_score': array([0.89 , 0.7  , 0.125, 0.91 , 0.73 , 0.13 , 0.91 , 0.73 , 0.13 ]), 'split2_test_score': array([0.89 , 0.625, 0.13 , 0.895, 0.655, 0.14 , 0.895, 0.655, 0.14 ]), 'split3_test_score': array([0.915, 0.65 , 0.125, 0.91 , 0.685, 0.13 , 0.91 , 0.685, 0.13 ]), 'split4_test_score': array([0.9  , 0.66 , 0.125, 0.92 , 0.68 , 0.125, 0.92 , 0.68 , 0.125]), 'mean_test_score': array([0.898, 0.665, 0.126, 0.911, 0.693, 0.13 , 0.911, 0.693, 0.13 ]), 'std_test_score': array([0.00927362, 0.02720294, 0.002     , 0.00916515, 0.02657066,\n",
      "       0.00547723, 0.00916515, 0.02657066, 0.00547723]), 'rank_test_score': array([3, 6, 9, 1, 4, 7, 1, 4, 7])}\n",
      "Best SVM training error: 0.000000\n",
      "Best SVM test error: 0.079725\n"
     ]
    },
    {
     "name": "stderr",
     "output_type": "stream",
     "text": [
      "c:\\Users\\Asus\\anaconda3\\envs\\gpu5\\lib\\site-packages\\sklearn\\linear_model\\_logistic.py:458: ConvergenceWarning: lbfgs failed to converge (status=1):\n",
      "STOP: TOTAL NO. of ITERATIONS REACHED LIMIT.\n",
      "\n",
      "Increase the number of iterations (max_iter) or scale the data as shown in:\n",
      "    https://scikit-learn.org/stable/modules/preprocessing.html\n",
      "Please also refer to the documentation for alternative solver options:\n",
      "    https://scikit-learn.org/stable/modules/linear_model.html#logistic-regression\n",
      "  n_iter_i = _check_optimize_result(\n"
     ]
    },
    {
     "name": "stdout",
     "output_type": "stream",
     "text": [
      "Best logistic regression training error: 0.092000\n",
      "Best logistic regression test error: 0.165667\n",
      "Best logistic regression training error with CV: 0.070000\n",
      "Best logistic regression test error with CV: 0.133333\n",
      "INPUT:\n"
     ]
    },
    {
     "data": {
      "image/png": "[encoded data removed]",
      "text/plain": [
       "<Figure size 432x288 with 1 Axes>"
      ]
     },
     "metadata": {
      "needs_background": "light"
     },
     "output_type": "display_data"
    },
    {
     "name": "stdout",
     "output_type": "stream",
     "text": [
      "LABEL: 9\n",
      "PREDICT:  9\n"
     ]
    }
   ],
   "source": [
    "m_training_k = 1000\n",
    "\n",
    "X_train_k, X_test_k = X[:m_training_k], X[m_training_k:]\n",
    "y_train_k, y_test_k = y[:m_training_k], y[m_training_k:]\n",
    "\n",
    "print(\"Labels and frequencies in training dataset: \")\n",
    "np.unique(y_train_k, return_counts = True)\n",
    "\n",
    "###########\n",
    "# TO DO 1 #\n",
    "###########\n",
    "\n",
    "# parameters for linear SVM\n",
    "parameters = {'C': [1, 10, 100]}\n",
    "\n",
    "#run linear SVM\n",
    "linear_SVM = SVC(kernel='linear')\n",
    "\n",
    "#find best model using 5-fold CV \n",
    "#and train it using all the training data\n",
    "\n",
    "# ADD CODE\n",
    "grid_search_l_k = GridSearchCV(linear_SVM, parameters, cv=5, n_jobs=-1)\n",
    "grid_search_l_k.fit(X_train_k, y_train_k)\n",
    "#\n",
    "\n",
    "print ('RESULTS FOR LINEAR KERNEL\\n')\n",
    "\n",
    "print(\"Best parameters set found:\")\n",
    "# ADD CODE\n",
    "print(grid_search_l_k.best_params_)\n",
    "#\n",
    "\n",
    "print(\"Score with best parameters:\")\n",
    "# ADD CODE\n",
    "print(grid_search_l_k.best_score_)\n",
    "#\n",
    "\n",
    "print(\"\\nAll scores on the grid:\")\n",
    "# ADD CODE\n",
    "print(grid_search_l_k.cv_results_)\n",
    "#\n",
    "\n",
    "# parameters for poly with degree 2 kernel\n",
    "parameters = {'C': [1, 10, 100],'gamma':[0.01,0.1,1.]}\n",
    "\n",
    "#run SVM with poly of degree 2 kernel\n",
    "poly2_SVM = SVC(kernel='poly',degree=2)\n",
    "\n",
    "# ADD CODE: DO THE SAME AS ABOVE FOR POLYNOMIAL KERNEL WITH DEGREE=2\n",
    "#find best model using 5-fold CV \n",
    "#and train it using all the training data\n",
    "grid_search_p_k = GridSearchCV(poly2_SVM, parameters, cv=5, n_jobs=-1)\n",
    "grid_search_p_k.fit(X_train_k, y_train_k)\n",
    "#\n",
    "\n",
    "print ('\\nRESULTS FOR POLY DEGREE=2 KERNEL\\n')\n",
    "\n",
    "print(\"Best parameters set found:\")\n",
    "# ADD CODE\n",
    "print(grid_search_p_k.best_params_)\n",
    "#\n",
    "\n",
    "print(\"Score with best parameters:\")\n",
    "# ADD CODE\n",
    "print(grid_search_p_k.best_score_)\n",
    "#\n",
    "\n",
    "print(\"\\nAll scores on the grid:\")\n",
    "# ADD CODE\n",
    "print(grid_search_p_k.cv_results_)\n",
    "#\n",
    "\n",
    "# parameters for rbf SVM\n",
    "parameters = {'C': [1, 10, 100],'gamma':[0.01,0.1,1.]}\n",
    "\n",
    "#run SVM with rbf kernel\n",
    "rbf_SVM = SVC(kernel='rbf')\n",
    "# ADD CODE: DO THE SAME AS ABOVE FOR RBF KERNEL\n",
    "#find best model using 5-fold CV \n",
    "#and train it using all the training data\n",
    "grid_search_rbf_k = GridSearchCV(rbf_SVM, parameters, cv=5, n_jobs=-1)\n",
    "grid_search_rbf_k.fit(X_train_k, y_train_k)\n",
    "#\n",
    "\n",
    "print ('\\nRESULTS FOR rbf KERNEL\\n')\n",
    "\n",
    "print(\"Best parameters set found:\")\n",
    "# ADD CODE\n",
    "print(grid_search_rbf_k.best_params_)\n",
    "#\n",
    "\n",
    "print(\"Score with best parameters:\")\n",
    "# ADD CODE\n",
    "print(grid_search_rbf_k.best_score_)\n",
    "#\n",
    "\n",
    "print(\"\\nAll scores on the grid:\")\n",
    "# ADD CODE\n",
    "print(grid_search_rbf_k.cv_results_)\n",
    "#\n",
    "\n",
    "###########\n",
    "# TO DO 2 #\n",
    "###########\n",
    "\n",
    "#get training and test error for the best SVM model from CV\n",
    "best_SVM_k = GridSearchCV(rbf_SVM, {'C':[10], 'gamma':[0.01]}, cv=5, n_jobs=-1) # ADD CODE\n",
    "\n",
    "# fit the model on the entire training set\n",
    "# ADD CODE\n",
    "best_SVM_k.fit(X_train_k, y_train_k)\n",
    "#\n",
    "\n",
    "#get the training and test error\n",
    "training_error_k = 1. - best_SVM_k.score(X_train_k,y_train_k)\n",
    "test_error_k = 1. - best_SVM_k.score(X_test_k,y_test_k)\n",
    "\n",
    "print (\"Best SVM training error: %f\" % training_error_k)\n",
    "print (\"Best SVM test error: %f\" % test_error_k)\n",
    "\n",
    "###########\n",
    "# TO DO 3 #\n",
    "###########\n",
    "\n",
    "lr_k = linear_model.LogisticRegression()\n",
    "# fit the model on the training data\n",
    "# ADD CODE\n",
    "lr_k.fit(X_train_k,y_train_k)\n",
    "#\n",
    "\n",
    "#compute training and test error for model above\n",
    "training_error_k = 1. - lr.score(X_train_k, y_train_k) # COMPLETE\n",
    "test_error_k = 1. - lr.score(X_test_k, y_test_k) # COMPLETE\n",
    "\n",
    "print (\"Best logistic regression training error: %f\" % training_error_k)\n",
    "print (\"Best logistic regression test error: %f\" % test_error_k)\n",
    "\n",
    "#logistic regression with 5-fold CV: you can use use linear_model.LogisticRegressionCV\n",
    "# use 5-fold CV to find the best choice of the parameter, than train\n",
    "# the model on the entire training set\n",
    "lr_cv_k = linear_model.LogisticRegressionCV(cv=5, n_jobs=-1) # COMPLETE\n",
    "lr_cv_k.fit(X_train_k,  y_train_k)\n",
    "training_error_cv_k = 1. - lr_cv_k.score(X_train_k, y_train_k) # COMPLETE\n",
    "test_error_cv_k = 1. - lr_cv_k.score(X_test_k, y_test_k) # COMPLETE\n",
    "\n",
    "print (\"Best logistic regression training error with CV: %f\" % training_error_cv_k)\n",
    "print (\"Best logistic regression test error with CV: %f\" % test_error_cv_k)\n",
    "\n",
    "###########\n",
    "# TO DO 5 #\n",
    "###########\n",
    "\n",
    "prediction_lr_k = lr_k.predict(X_test_k)\n",
    "prediction_svm_k = best_SVM_k.predict(X_test_k)\n",
    "cm_lr_k = metrics.confusion_matrix(y_test_k, prediction_lr_k)\n",
    "cm_svm_k = metrics.confusion_matrix(y_test_k, prediction_svm_k)\n",
    "\"\"\"\n",
    "plt.figure(figsize=(9,9))\n",
    "plt.imshow(cm, interpolation='nearest', cmap='Pastel1')\n",
    "plt.title('Confusion matrix', size = 15)\n",
    "plt.colorbar()\n",
    "tick_marks = np.arange(10)\n",
    "plt.xticks(tick_marks, [\"0\", \"1\", \"2\", \"3\", \"4\", \"5\", \"6\", \"7\", \"8\", \"9\"], rotation=45, size = 10)\n",
    "plt.yticks(tick_marks, [\"0\", \"1\", \"2\", \"3\", \"4\", \"5\", \"6\", \"7\", \"8\", \"9\"], size = 10)\n",
    "plt.tight_layout()\n",
    "plt.ylabel('Actual label', size = 15)\n",
    "plt.xlabel('Predicted label', size = 15)\n",
    "width, height = cm.shape\n",
    "for x1 in range(width):\n",
    "    for y1 in range(height):\n",
    "        plt.annotate(str(cm[x1][y1]), xy=(y1, x1),  horizontalalignment='center', verticalalignment='center')\n",
    "\"\"\"\n",
    "misclassified_k = np.where(y_test_k!=prediction_lr_k)[0]\n",
    "classified_k = np.where(y_test_k==prediction_svm_k)[0]\n",
    "foo_k = []\n",
    "for i in classified_k:\n",
    "    for j in misclassified_k:\n",
    "        if i==j:\n",
    "            foo_k.append(i)\n",
    "\n",
    "foo1_k = foo_k[0] #choice(len(foo))\n",
    "plot_digit(X_test_k, y_test_k, foo1_k)\n",
    "print(\"PREDICT: \", y_test_k[misclassified_k[foo1_k]])"
   ]
  },
  {
   "cell_type": "markdown",
   "metadata": {},
   "source": [
    "## TO DO 7\n",
    "Compare and comment on the differences with the results above."
   ]
  },
  {
   "cell_type": "code",
   "execution_count": null,
   "metadata": {},
   "outputs": [],
   "source": []
  }
 ],
 "metadata": {
  "kernelspec": {
   "display_name": "gpu5",
   "language": "python",
   "name": "python3"
  },
  "language_info": {
   "codemirror_mode": {
    "name": "ipython",
    "version": 3
   },
   "file_extension": ".py",
   "mimetype": "text/x-python",
   "name": "python",
   "nbconvert_exporter": "python",
   "pygments_lexer": "ipython3",
   "version": "3.8.15"
  },
  "vscode": {
   "interpreter": {
    "hash": "10f11cb71a5baa8e7d96098c7e4f0c8873a89e2a2b5adef634da4bf945a161a2"
   }
  }
 },
 "nbformat": 4,
 "nbformat_minor": 4
}

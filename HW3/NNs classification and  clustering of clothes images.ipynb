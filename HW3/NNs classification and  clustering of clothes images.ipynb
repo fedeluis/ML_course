{
 "cells": [
  {
   "cell_type": "markdown",
   "metadata": {},
   "source": [
    "# Neural Networks for Classification\n",
    "\n",
    "In this notebook we are going to explore the use of Neural Networks for image classification. We are going to use a dataset of small images of clothes and accessories, the Fashion MNIST. You can find more information regarding the dataset here: https://pravarmahajan.github.io/fashion/\n",
    "\n",
    "Each instance in the dataset consist of an image, in a format similar to the digit images you have seen in the previous homework, and a label. The labels correspond to the type of clothing, as follows:\n",
    "\n",
    "| Label | Description |\n",
    "| --- | --- |\n",
    "| 0 | T-shirt/top |\n",
    "| 1 | Trouser |\n",
    "| 2 | Pullover |\n",
    "| 3 | Dress |\n",
    "| 4 | Coat |\n",
    "| 5 | Sandal |\n",
    "| 6 | Shirt |\n",
    "| 7 | Sneaker |\n",
    "| 8 | Bag |\n",
    "| 9 | Ankle boot |"
   ]
  },
  {
   "cell_type": "markdown",
   "metadata": {},
   "source": [
    "Let's first load the required packages."
   ]
  },
  {
   "cell_type": "code",
   "execution_count": 1,
   "metadata": {},
   "outputs": [],
   "source": [
    "#load the required packages\n",
    "\n",
    "%matplotlib inline  \n",
    "\n",
    "import numpy as np\n",
    "import scipy as sp\n",
    "import matplotlib.pyplot as plt\n",
    "\n",
    "import sklearn\n",
    "from sklearn.neural_network import MLPClassifier\n",
    "from sklearn.model_selection import GridSearchCV"
   ]
  },
  {
   "cell_type": "markdown",
   "metadata": {},
   "source": [
    "The following is a function to load the data, that we are going to use later in the notebook."
   ]
  },
  {
   "cell_type": "code",
   "execution_count": 2,
   "metadata": {},
   "outputs": [],
   "source": [
    "# helper function to load Fashion MNIST dataset from disk\n",
    "def load_fashion_mnist(path, kind='train'):\n",
    "    import os\n",
    "    import gzip\n",
    "    import numpy as np\n",
    "    labels_path = os.path.join(path, '%s-labels-idx1-ubyte.gz' % kind)\n",
    "    images_path = os.path.join(path, '%s-images-idx3-ubyte.gz' % kind)\n",
    "    with gzip.open(labels_path, 'rb') as lbpath:\n",
    "        labels = np.frombuffer(lbpath.read(), dtype=np.uint8,offset=8)\n",
    "    with gzip.open(images_path, 'rb') as imgpath:\n",
    "        images = np.frombuffer(imgpath.read(), dtype=np.uint8,offset=16).reshape(len(labels), 784)\n",
    "    return images, labels"
   ]
  },
  {
   "cell_type": "markdown",
   "metadata": {},
   "source": [
    "## TO DO 0\n",
    "Place your ID (\"numero di matricola\") that will be used as seed for random generator. Change the ID number in case you observe unexpected behaviours and want to test if this is due to randomization (e.g., train/test split). If you change the ID number explain here why you have changed it."
   ]
  },
  {
   "cell_type": "code",
   "execution_count": 3,
   "metadata": {},
   "outputs": [],
   "source": [
    "ID = 2074282 # COMPLETE\n",
    "np.random.seed(ID)"
   ]
  },
  {
   "cell_type": "markdown",
   "metadata": {},
   "source": [
    "Now we load the dataset using the function above."
   ]
  },
  {
   "cell_type": "code",
   "execution_count": 4,
   "metadata": {},
   "outputs": [],
   "source": [
    "#load the fashion MNIST dataset and normalize the features so that each value is in [0,1]\n",
    "X, y = load_fashion_mnist(\"data\")\n",
    "# rescale the data\n",
    "X = X / 255.0"
   ]
  },
  {
   "cell_type": "markdown",
   "metadata": {},
   "source": [
    "Now we split the data into training and test. Make sure that each label is present at least 10 times\n",
    "in the training set."
   ]
  },
  {
   "cell_type": "code",
   "execution_count": 5,
   "metadata": {},
   "outputs": [
    {
     "name": "stdout",
     "output_type": "stream",
     "text": [
      "Labels in training dataset:  [0 1 2 3 4 5 6 7 8 9]\n",
      "Frequencies in training dataset:  [47 50 52 46 50 43 42 59 58 53]\n"
     ]
    }
   ],
   "source": [
    "#random permute the data and split into training and test taking the first 500\n",
    "#data samples as training and the rest as test\n",
    "permutation = np.random.permutation(X.shape[0])\n",
    "\n",
    "X = X[permutation]\n",
    "y = y[permutation]\n",
    "\n",
    "m_training = 500\n",
    "\n",
    "X_train, X_test = X[:m_training], X[m_training:]\n",
    "y_train, y_test = y[:m_training], y[m_training:]\n",
    "\n",
    "labels, freqs = np.unique(y_train, return_counts=True)\n",
    "print(\"Labels in training dataset: \", labels)\n",
    "print(\"Frequencies in training dataset: \", freqs)\n"
   ]
  },
  {
   "cell_type": "markdown",
   "metadata": {},
   "source": [
    "The following function plots an image and the corresponding label, to be used to inspect the data when needed."
   ]
  },
  {
   "cell_type": "code",
   "execution_count": 6,
   "metadata": {},
   "outputs": [],
   "source": [
    "#function for plotting a image and printing the corresponding label\n",
    "def plot_input(X_matrix, labels, index):\n",
    "    print(\"INPUT:\")\n",
    "    plt.imshow(\n",
    "        X_matrix[index].reshape(28,28),\n",
    "        cmap          = plt.cm.gray_r,\n",
    "        interpolation = \"nearest\"\n",
    "    )\n",
    "    plt.show()\n",
    "    print(\"LABEL: %i\"%labels[index])\n",
    "    return"
   ]
  },
  {
   "cell_type": "markdown",
   "metadata": {},
   "source": [
    "Now let's test the function above and check few images."
   ]
  },
  {
   "cell_type": "code",
   "execution_count": 7,
   "metadata": {},
   "outputs": [
    {
     "name": "stdout",
     "output_type": "stream",
     "text": [
      "INPUT:\n"
     ]
    },
    {
     "data": {
      "image/png": "[encoded data removed]",
      "text/plain": [
       "<Figure size 432x288 with 1 Axes>"
      ]
     },
     "metadata": {
      "needs_background": "light"
     },
     "output_type": "display_data"
    },
    {
     "name": "stdout",
     "output_type": "stream",
     "text": [
      "LABEL: 7\n",
      "INPUT:\n"
     ]
    },
    {
     "data": {
      "image/png": "[encoded data removed]",
      "text/plain": [
       "<Figure size 432x288 with 1 Axes>"
      ]
     },
     "metadata": {
      "needs_background": "light"
     },
     "output_type": "display_data"
    },
    {
     "name": "stdout",
     "output_type": "stream",
     "text": [
      "LABEL: 8\n",
      "INPUT:\n"
     ]
    },
    {
     "data": {
      "image/png": "[encoded data removed]",
      "text/plain": [
       "<Figure size 432x288 with 1 Axes>"
      ]
     },
     "metadata": {
      "needs_background": "light"
     },
     "output_type": "display_data"
    },
    {
     "name": "stdout",
     "output_type": "stream",
     "text": [
      "LABEL: 3\n"
     ]
    }
   ],
   "source": [
    "#let's try the plotting function\n",
    "plot_input(X_train,y_train,10)\n",
    "plot_input(X_test,y_test,50)\n",
    "plot_input(X_test,y_test,300)"
   ]
  },
  {
   "cell_type": "markdown",
   "metadata": {},
   "source": [
    "### TO DO 1\n",
    "\n",
    "Now use a (feed-forward) Neural Network for prediction. Use the multi-layer perceptron (MLP) classifier MLPClassifier(...) in scikit-learn, with the following parameters: max_iter=300, alpha=1e-4, solver='sgd', tol=1e-4, learning_rate_init=.1, verbose=True, random_state=ID (this last parameter ensures the run is the same even if you run it more than once). The alpha parameter is the regularization parameter for L2 regularization that is used by the MLP in sklearn, and verbose=True allows you to see how loss changes in iterations (note that the loss used by the MLPClassifier may be different from the 0-1 loss, also called accuracy).\n",
    "\n",
    "Then, using the default activation function, we consider four architectures, with different numbers of hidden layers and different sizes. To evaluate the architectures we use the GridSearchCV with a 5-fold cross-validation, and use the results to pick the best architecture.\n"
   ]
  },
  {
   "cell_type": "code",
   "execution_count": 8,
   "metadata": {},
   "outputs": [
    {
     "name": "stdout",
     "output_type": "stream",
     "text": [
      "Iteration 1, loss = 2.12533326\n",
      "Iteration 2, loss = 1.36524179\n",
      "Iteration 3, loss = 1.10610708\n",
      "Iteration 4, loss = 1.21499675\n",
      "Iteration 5, loss = 0.88985055\n",
      "Iteration 6, loss = 0.73729839\n",
      "Iteration 7, loss = 0.61668635\n",
      "Iteration 8, loss = 0.58111174\n",
      "Iteration 9, loss = 0.54883037\n",
      "Iteration 10, loss = 0.52399009\n",
      "Iteration 11, loss = 0.45095286\n",
      "Iteration 12, loss = 0.42680093\n",
      "Iteration 13, loss = 0.47065669\n",
      "Iteration 14, loss = 0.39446461\n",
      "Iteration 15, loss = 0.36239072\n",
      "Iteration 16, loss = 0.44014482\n",
      "Iteration 17, loss = 0.37534620\n",
      "Iteration 18, loss = 0.28572528\n",
      "Iteration 19, loss = 0.29150624\n",
      "Iteration 20, loss = 0.24401552\n",
      "Iteration 21, loss = 0.24924895\n",
      "Iteration 22, loss = 0.24482412\n",
      "Iteration 23, loss = 0.22893896\n",
      "Iteration 24, loss = 0.18433780\n",
      "Iteration 25, loss = 0.23092047\n",
      "Iteration 26, loss = 0.16430675\n",
      "Iteration 27, loss = 0.15643207\n",
      "Iteration 28, loss = 0.19568622\n",
      "Iteration 29, loss = 0.21982900\n",
      "Iteration 30, loss = 0.12309093\n",
      "Iteration 31, loss = 0.12311513\n",
      "Iteration 32, loss = 0.14231245\n",
      "Iteration 33, loss = 0.23990705\n",
      "Iteration 34, loss = 0.17578259\n",
      "Iteration 35, loss = 0.09093431\n",
      "Iteration 36, loss = 0.09207536\n",
      "Iteration 37, loss = 0.07483083\n",
      "Iteration 38, loss = 0.07178232\n",
      "Iteration 39, loss = 0.07392349\n",
      "Iteration 40, loss = 0.06596268\n",
      "Iteration 41, loss = 0.05918769\n",
      "Iteration 42, loss = 0.06204135\n",
      "Iteration 43, loss = 0.04661974\n",
      "Iteration 44, loss = 0.06072634\n",
      "Iteration 45, loss = 0.04288506\n",
      "Iteration 46, loss = 0.04909764\n",
      "Iteration 47, loss = 0.03974137\n",
      "Iteration 48, loss = 0.03882529\n",
      "Iteration 49, loss = 0.03242321\n",
      "Iteration 50, loss = 0.03146270\n",
      "Iteration 51, loss = 0.03094710\n",
      "Iteration 52, loss = 0.02834451\n",
      "Iteration 53, loss = 0.02677860\n",
      "Iteration 54, loss = 0.02540056\n",
      "Iteration 55, loss = 0.02547184\n",
      "Iteration 56, loss = 0.02323407\n",
      "Iteration 57, loss = 0.02296347\n",
      "Iteration 58, loss = 0.02195086\n",
      "Iteration 59, loss = 0.02306226\n",
      "Iteration 60, loss = 0.02050890\n",
      "Iteration 61, loss = 0.02168744\n",
      "Iteration 62, loss = 0.01906029\n",
      "Iteration 63, loss = 0.01842159\n",
      "Iteration 64, loss = 0.01882637\n",
      "Iteration 65, loss = 0.01654991\n",
      "Iteration 66, loss = 0.01561341\n",
      "Iteration 67, loss = 0.01536145\n",
      "Iteration 68, loss = 0.01500381\n",
      "Iteration 69, loss = 0.01428682\n",
      "Iteration 70, loss = 0.01405016\n",
      "Iteration 71, loss = 0.01367727\n",
      "Iteration 72, loss = 0.01393354\n",
      "Iteration 73, loss = 0.01288690\n",
      "Iteration 74, loss = 0.01269989\n",
      "Iteration 75, loss = 0.01233260\n",
      "Iteration 76, loss = 0.01209661\n",
      "Iteration 77, loss = 0.01155778\n",
      "Iteration 78, loss = 0.01140117\n",
      "Iteration 79, loss = 0.01105914\n",
      "Iteration 80, loss = 0.01090616\n",
      "Iteration 81, loss = 0.01055021\n",
      "Iteration 82, loss = 0.01033007\n",
      "Iteration 83, loss = 0.01009023\n",
      "Iteration 84, loss = 0.00990543\n",
      "Iteration 85, loss = 0.00996028\n",
      "Iteration 86, loss = 0.00950634\n",
      "Iteration 87, loss = 0.00939964\n",
      "Iteration 88, loss = 0.00902168\n",
      "Iteration 89, loss = 0.00881540\n",
      "Iteration 90, loss = 0.00870171\n",
      "Iteration 91, loss = 0.00855135\n",
      "Iteration 92, loss = 0.00831191\n",
      "Iteration 93, loss = 0.00821540\n",
      "Iteration 94, loss = 0.00810995\n",
      "Iteration 95, loss = 0.00800648\n",
      "Iteration 96, loss = 0.00784296\n",
      "Iteration 97, loss = 0.00761973\n",
      "Iteration 98, loss = 0.00760882\n",
      "Iteration 99, loss = 0.00758230\n",
      "Iteration 100, loss = 0.00733901\n",
      "Iteration 101, loss = 0.00713923\n",
      "Iteration 102, loss = 0.00703350\n",
      "Iteration 103, loss = 0.00691658\n",
      "Iteration 104, loss = 0.00679044\n",
      "Iteration 105, loss = 0.00669727\n",
      "Iteration 106, loss = 0.00663311\n",
      "Iteration 107, loss = 0.00645292\n",
      "Iteration 108, loss = 0.00641616\n",
      "Iteration 109, loss = 0.00626147\n",
      "Iteration 110, loss = 0.00621109\n",
      "Iteration 111, loss = 0.00622501\n",
      "Iteration 112, loss = 0.00602052\n",
      "Iteration 113, loss = 0.00602832\n",
      "Iteration 114, loss = 0.00586902\n",
      "Iteration 115, loss = 0.00581523\n",
      "Iteration 116, loss = 0.00576866\n",
      "Iteration 117, loss = 0.00563006\n",
      "Iteration 118, loss = 0.00555505\n",
      "Iteration 119, loss = 0.00544764\n",
      "Iteration 120, loss = 0.00548944\n",
      "Iteration 121, loss = 0.00538762\n",
      "Iteration 122, loss = 0.00533512\n",
      "Iteration 123, loss = 0.00527451\n",
      "Iteration 124, loss = 0.00517052\n",
      "Iteration 125, loss = 0.00510950\n",
      "Iteration 126, loss = 0.00508193\n",
      "Iteration 127, loss = 0.00498879\n",
      "Iteration 128, loss = 0.00494108\n",
      "Iteration 129, loss = 0.00480875\n",
      "Iteration 130, loss = 0.00476698\n",
      "Iteration 131, loss = 0.00475862\n",
      "Iteration 132, loss = 0.00465676\n",
      "Iteration 133, loss = 0.00461726\n",
      "Iteration 134, loss = 0.00458759\n",
      "Iteration 135, loss = 0.00457741\n",
      "Iteration 136, loss = 0.00445401\n",
      "Iteration 137, loss = 0.00440243\n",
      "Iteration 138, loss = 0.00434882\n",
      "Iteration 139, loss = 0.00434039\n",
      "Iteration 140, loss = 0.00428335\n",
      "Iteration 141, loss = 0.00426352\n",
      "Iteration 142, loss = 0.00416936\n",
      "Iteration 143, loss = 0.00416989\n",
      "Iteration 144, loss = 0.00409287\n",
      "Iteration 145, loss = 0.00410106\n",
      "Iteration 146, loss = 0.00404589\n",
      "Iteration 147, loss = 0.00402847\n",
      "Training loss did not improve more than tol=0.000100 for 10 consecutive epochs. Stopping.\n"
     ]
    },
    {
     "data": {
      "text/html": [
       "<style>#sk-container-id-1 {color: black;background-color: white;}#sk-container-id-1 pre{padding: 0;}#sk-container-id-1 div.sk-toggleable {background-color: white;}#sk-container-id-1 label.sk-toggleable__label {cursor: pointer;display: block;width: 100%;margin-bottom: 0;padding: 0.3em;box-sizing: border-box;text-align: center;}#sk-container-id-1 label.sk-toggleable__label-arrow:before {content: \"▸\";float: left;margin-right: 0.25em;color: #696969;}#sk-container-id-1 label.sk-toggleable__label-arrow:hover:before {color: black;}#sk-container-id-1 div.sk-estimator:hover label.sk-toggleable__label-arrow:before {color: black;}#sk-container-id-1 div.sk-toggleable__content {max-height: 0;max-width: 0;overflow: hidden;text-align: left;background-color: #f0f8ff;}#sk-container-id-1 div.sk-toggleable__content pre {margin: 0.2em;color: black;border-radius: 0.25em;background-color: #f0f8ff;}#sk-container-id-1 input.sk-toggleable__control:checked~div.sk-toggleable__content {max-height: 200px;max-width: 100%;overflow: auto;}#sk-container-id-1 input.sk-toggleable__control:checked~label.sk-toggleable__label-arrow:before {content: \"▾\";}#sk-container-id-1 div.sk-estimator input.sk-toggleable__control:checked~label.sk-toggleable__label {background-color: #d4ebff;}#sk-container-id-1 div.sk-label input.sk-toggleable__control:checked~label.sk-toggleable__label {background-color: #d4ebff;}#sk-container-id-1 input.sk-hidden--visually {border: 0;clip: rect(1px 1px 1px 1px);clip: rect(1px, 1px, 1px, 1px);height: 1px;margin: -1px;overflow: hidden;padding: 0;position: absolute;width: 1px;}#sk-container-id-1 div.sk-estimator {font-family: monospace;background-color: #f0f8ff;border: 1px dotted black;border-radius: 0.25em;box-sizing: border-box;margin-bottom: 0.5em;}#sk-container-id-1 div.sk-estimator:hover {background-color: #d4ebff;}#sk-container-id-1 div.sk-parallel-item::after {content: \"\";width: 100%;border-bottom: 1px solid gray;flex-grow: 1;}#sk-container-id-1 div.sk-label:hover label.sk-toggleable__label {background-color: #d4ebff;}#sk-container-id-1 div.sk-serial::before {content: \"\";position: absolute;border-left: 1px solid gray;box-sizing: border-box;top: 0;bottom: 0;left: 50%;z-index: 0;}#sk-container-id-1 div.sk-serial {display: flex;flex-direction: column;align-items: center;background-color: white;padding-right: 0.2em;padding-left: 0.2em;position: relative;}#sk-container-id-1 div.sk-item {position: relative;z-index: 1;}#sk-container-id-1 div.sk-parallel {display: flex;align-items: stretch;justify-content: center;background-color: white;position: relative;}#sk-container-id-1 div.sk-item::before, #sk-container-id-1 div.sk-parallel-item::before {content: \"\";position: absolute;border-left: 1px solid gray;box-sizing: border-box;top: 0;bottom: 0;left: 50%;z-index: -1;}#sk-container-id-1 div.sk-parallel-item {display: flex;flex-direction: column;z-index: 1;position: relative;background-color: white;}#sk-container-id-1 div.sk-parallel-item:first-child::after {align-self: flex-end;width: 50%;}#sk-container-id-1 div.sk-parallel-item:last-child::after {align-self: flex-start;width: 50%;}#sk-container-id-1 div.sk-parallel-item:only-child::after {width: 0;}#sk-container-id-1 div.sk-dashed-wrapped {border: 1px dashed gray;margin: 0 0.4em 0.5em 0.4em;box-sizing: border-box;padding-bottom: 0.4em;background-color: white;}#sk-container-id-1 div.sk-label label {font-family: monospace;font-weight: bold;display: inline-block;line-height: 1.2em;}#sk-container-id-1 div.sk-label-container {text-align: center;}#sk-container-id-1 div.sk-container {/* jupyter's `normalize.less` sets `[hidden] { display: none; }` but bootstrap.min.css set `[hidden] { display: none !important; }` so we also need the `!important` here to be able to override the default hidden behavior on the sphinx rendered scikit-learn.org. See: https://github.com/scikit-learn/scikit-learn/issues/21755 */display: inline-block !important;position: relative;}#sk-container-id-1 div.sk-text-repr-fallback {display: none;}</style><div id=\"sk-container-id-1\" class=\"sk-top-container\"><div class=\"sk-text-repr-fallback\"><pre>GridSearchCV(cv=5,\n",
       "             estimator=MLPClassifier(learning_rate_init=0.1, max_iter=300,\n",
       "                                     random_state=2074282, solver=&#x27;sgd&#x27;,\n",
       "                                     verbose=True),\n",
       "             n_jobs=-1,\n",
       "             param_grid={&#x27;hidden_layer_sizes&#x27;: [(10,), (50,), (10, 10),\n",
       "                                                (50, 50)]})</pre><b>In a Jupyter environment, please rerun this cell to show the HTML representation or trust the notebook. <br />On GitHub, the HTML representation is unable to render, please try loading this page with nbviewer.org.</b></div><div class=\"sk-container\" hidden><div class=\"sk-item sk-dashed-wrapped\"><div class=\"sk-label-container\"><div class=\"sk-label sk-toggleable\"><input class=\"sk-toggleable__control sk-hidden--visually\" id=\"sk-estimator-id-1\" type=\"checkbox\" ><label for=\"sk-estimator-id-1\" class=\"sk-toggleable__label sk-toggleable__label-arrow\">GridSearchCV</label><div class=\"sk-toggleable__content\"><pre>GridSearchCV(cv=5,\n",
       "             estimator=MLPClassifier(learning_rate_init=0.1, max_iter=300,\n",
       "                                     random_state=2074282, solver=&#x27;sgd&#x27;,\n",
       "                                     verbose=True),\n",
       "             n_jobs=-1,\n",
       "             param_grid={&#x27;hidden_layer_sizes&#x27;: [(10,), (50,), (10, 10),\n",
       "                                                (50, 50)]})</pre></div></div></div><div class=\"sk-parallel\"><div class=\"sk-parallel-item\"><div class=\"sk-item\"><div class=\"sk-label-container\"><div class=\"sk-label sk-toggleable\"><input class=\"sk-toggleable__control sk-hidden--visually\" id=\"sk-estimator-id-2\" type=\"checkbox\" ><label for=\"sk-estimator-id-2\" class=\"sk-toggleable__label sk-toggleable__label-arrow\">estimator: MLPClassifier</label><div class=\"sk-toggleable__content\"><pre>MLPClassifier(learning_rate_init=0.1, max_iter=300, random_state=2074282,\n",
       "              solver=&#x27;sgd&#x27;, verbose=True)</pre></div></div></div><div class=\"sk-serial\"><div class=\"sk-item\"><div class=\"sk-estimator sk-toggleable\"><input class=\"sk-toggleable__control sk-hidden--visually\" id=\"sk-estimator-id-3\" type=\"checkbox\" ><label for=\"sk-estimator-id-3\" class=\"sk-toggleable__label sk-toggleable__label-arrow\">MLPClassifier</label><div class=\"sk-toggleable__content\"><pre>MLPClassifier(learning_rate_init=0.1, max_iter=300, random_state=2074282,\n",
       "              solver=&#x27;sgd&#x27;, verbose=True)</pre></div></div></div></div></div></div></div></div></div></div>"
      ],
      "text/plain": [
       "GridSearchCV(cv=5,\n",
       "             estimator=MLPClassifier(learning_rate_init=0.1, max_iter=300,\n",
       "                                     random_state=2074282, solver='sgd',\n",
       "                                     verbose=True),\n",
       "             n_jobs=-1,\n",
       "             param_grid={'hidden_layer_sizes': [(10,), (50,), (10, 10),\n",
       "                                                (50, 50)]})"
      ]
     },
     "execution_count": 8,
     "metadata": {},
     "output_type": "execute_result"
    }
   ],
   "source": [
    "#MLPclassifier requires in input the parameter hidden_layer_sizes, that is a tuple specifying the number of \n",
    "#neurons in the hidden layers; for example: (10,) means that there is only 1 hidden layer with 10 neurons; \n",
    "#(10,50) means that there are 2 hidden layers, the first with 10 neurons, the second with 50 neurons\n",
    "\n",
    "hl_parameters = {'hidden_layer_sizes': [(10,), (50,), (10,10,), (50,50,)]}\n",
    "\n",
    "mlp_cv = GridSearchCV(MLPClassifier(max_iter=300, alpha=1e-4, solver='sgd', tol=1e-4, learning_rate_init=.1, verbose=True, random_state=ID), hl_parameters, cv=5, n_jobs=-1) #ADD YOUR CODE\n",
    "    \n",
    "mlp_cv.fit(X_train, y_train)"
   ]
  },
  {
   "cell_type": "code",
   "execution_count": 9,
   "metadata": {},
   "outputs": [
    {
     "name": "stdout",
     "output_type": "stream",
     "text": [
      "RESULTS FOR NN\n",
      "\n",
      "Best parameters set found:\n",
      "{'hidden_layer_sizes': (50,)}\n",
      "Score with best parameters:\n",
      "0.7780000000000001\n",
      "\n",
      "All scores on the grid:\n"
     ]
    },
    {
     "data": {
      "text/plain": [
       "{'mean_fit_time': array([1.23631663, 1.71830468, 0.56099987, 0.83280468]),\n",
       " 'std_fit_time': array([0.47431697, 0.14080361, 0.13869168, 0.29866511]),\n",
       " 'mean_score_time': array([0.00120101, 0.00180035, 0.00259895, 0.00159326]),\n",
       " 'std_score_time': array([0.00039978, 0.00040034, 0.00162466, 0.00080456]),\n",
       " 'param_hidden_layer_sizes': masked_array(data=[(10,), (50,), (10, 10), (50, 50)],\n",
       "              mask=[False, False, False, False],\n",
       "        fill_value='?',\n",
       "             dtype=object),\n",
       " 'params': [{'hidden_layer_sizes': (10,)},\n",
       "  {'hidden_layer_sizes': (50,)},\n",
       "  {'hidden_layer_sizes': (10, 10)},\n",
       "  {'hidden_layer_sizes': (50, 50)}],\n",
       " 'split0_test_score': array([0.74, 0.79, 0.63, 0.74]),\n",
       " 'split1_test_score': array([0.76, 0.81, 0.71, 0.82]),\n",
       " 'split2_test_score': array([0.72, 0.73, 0.67, 0.73]),\n",
       " 'split3_test_score': array([0.75, 0.78, 0.65, 0.7 ]),\n",
       " 'split4_test_score': array([0.56, 0.78, 0.3 , 0.77]),\n",
       " 'mean_test_score': array([0.706, 0.778, 0.592, 0.752]),\n",
       " 'std_test_score': array([0.07418895, 0.02638181, 0.1483779 , 0.04069398]),\n",
       " 'rank_test_score': array([3, 1, 4, 2])}"
      ]
     },
     "metadata": {},
     "output_type": "display_data"
    }
   ],
   "source": [
    "print ('RESULTS FOR NN\\n')\n",
    "\n",
    "print(\"Best parameters set found:\")\n",
    "#ADD YOUR CODE\n",
    "print(mlp_cv.best_params_)\n",
    "#\n",
    "\n",
    "print(\"Score with best parameters:\")\n",
    "#ADD YOUR CODE\n",
    "print(mlp_cv.best_score_)\n",
    "#\n",
    "\n",
    "print(\"\\nAll scores on the grid:\")\n",
    "#ADD YOUR CODE\n",
    "import pandas as pd\n",
    "with pd.option_context('display.max_rows', None, 'display.max_columns', None):\n",
    "    display(mlp_cv.cv_results_)\n",
    "#"
   ]
  },
  {
   "cell_type": "markdown",
   "metadata": {},
   "source": [
    "## TO DO 2\n",
    "\n",
    "What do you observe for different architectures and their scores? How do the number of layers and their sizes affect the performances?"
   ]
  },
  {
   "attachments": {},
   "cell_type": "markdown",
   "metadata": {},
   "source": [
    "[ADD YOUR ANSWER HERE]\n",
    "\n",
    "buona spiegazione: https://stats.stackexchange.com/questions/181/how-to-choose-the-number-of-hidden-layers-and-nodes-in-a-feedforward-neural-netw\n",
    "\n",
    "From the test we can observe that with 50 nodes and one hidden layer we obtain a better score than the other casistics. This is because one hidden layer is sufficient for the large majority of problems and adding another one will not lead to better performance. With only 10 nodes in the hidden layer we don't have the sensibility necessed, but we observe that with one layer we obtain a better score than 2 hidden layers with 10 nodes each."
   ]
  },
  {
   "cell_type": "markdown",
   "metadata": {},
   "source": [
    "## TO DO 3\n",
    "\n",
    "Now get training and test error (according to the initial split) for a NN with best parameters chosen from the cross-validation above. Use the attribute *best_estimator_* to pick the best architecture already re-trained on the training dataset (more infos in the documentation of GridSearchCV)."
   ]
  },
  {
   "cell_type": "code",
   "execution_count": 10,
   "metadata": {},
   "outputs": [
    {
     "name": "stdout",
     "output_type": "stream",
     "text": [
      "Iteration 1, loss = 2.12533326\n",
      "Iteration 2, loss = 1.36524179\n",
      "Iteration 3, loss = 1.10610708\n",
      "Iteration 4, loss = 1.21499675\n",
      "Iteration 5, loss = 0.88985055\n",
      "Iteration 6, loss = 0.73729839\n",
      "Iteration 7, loss = 0.61668635\n",
      "Iteration 8, loss = 0.58111174\n",
      "Iteration 9, loss = 0.54883037\n",
      "Iteration 10, loss = 0.52399009\n",
      "Iteration 11, loss = 0.45095286\n",
      "Iteration 12, loss = 0.42680093\n",
      "Iteration 13, loss = 0.47065669\n",
      "Iteration 14, loss = 0.39446461\n",
      "Iteration 15, loss = 0.36239072\n",
      "Iteration 16, loss = 0.44014482\n",
      "Iteration 17, loss = 0.37534620\n",
      "Iteration 18, loss = 0.28572528\n",
      "Iteration 19, loss = 0.29150624\n",
      "Iteration 20, loss = 0.24401552\n",
      "Iteration 21, loss = 0.24924895\n",
      "Iteration 22, loss = 0.24482412\n",
      "Iteration 23, loss = 0.22893896\n",
      "Iteration 24, loss = 0.18433780\n",
      "Iteration 25, loss = 0.23092047\n",
      "Iteration 26, loss = 0.16430675\n",
      "Iteration 27, loss = 0.15643207\n",
      "Iteration 28, loss = 0.19568622\n",
      "Iteration 29, loss = 0.21982900\n",
      "Iteration 30, loss = 0.12309093\n",
      "Iteration 31, loss = 0.12311513\n",
      "Iteration 32, loss = 0.14231245\n",
      "Iteration 33, loss = 0.23990705\n",
      "Iteration 34, loss = 0.17578259\n",
      "Iteration 35, loss = 0.09093431\n",
      "Iteration 36, loss = 0.09207536\n",
      "Iteration 37, loss = 0.07483083\n",
      "Iteration 38, loss = 0.07178232\n",
      "Iteration 39, loss = 0.07392349\n",
      "Iteration 40, loss = 0.06596268\n",
      "Iteration 41, loss = 0.05918769\n",
      "Iteration 42, loss = 0.06204135\n",
      "Iteration 43, loss = 0.04661974\n",
      "Iteration 44, loss = 0.06072634\n",
      "Iteration 45, loss = 0.04288506\n",
      "Iteration 46, loss = 0.04909764\n",
      "Iteration 47, loss = 0.03974137\n",
      "Iteration 48, loss = 0.03882529\n",
      "Iteration 49, loss = 0.03242321\n",
      "Iteration 50, loss = 0.03146270\n",
      "Iteration 51, loss = 0.03094710\n",
      "Iteration 52, loss = 0.02834451\n",
      "Iteration 53, loss = 0.02677860\n",
      "Iteration 54, loss = 0.02540056\n",
      "Iteration 55, loss = 0.02547184\n",
      "Iteration 56, loss = 0.02323407\n",
      "Iteration 57, loss = 0.02296347\n",
      "Iteration 58, loss = 0.02195086\n",
      "Iteration 59, loss = 0.02306226\n",
      "Iteration 60, loss = 0.02050890\n",
      "Iteration 61, loss = 0.02168744\n",
      "Iteration 62, loss = 0.01906029\n",
      "Iteration 63, loss = 0.01842159\n",
      "Iteration 64, loss = 0.01882637\n",
      "Iteration 65, loss = 0.01654991\n",
      "Iteration 66, loss = 0.01561341\n",
      "Iteration 67, loss = 0.01536145\n",
      "Iteration 68, loss = 0.01500381\n",
      "Iteration 69, loss = 0.01428682\n",
      "Iteration 70, loss = 0.01405016\n",
      "Iteration 71, loss = 0.01367727\n",
      "Iteration 72, loss = 0.01393354\n",
      "Iteration 73, loss = 0.01288690\n",
      "Iteration 74, loss = 0.01269989\n",
      "Iteration 75, loss = 0.01233260\n",
      "Iteration 76, loss = 0.01209661\n",
      "Iteration 77, loss = 0.01155778\n",
      "Iteration 78, loss = 0.01140117\n",
      "Iteration 79, loss = 0.01105914\n",
      "Iteration 80, loss = 0.01090616\n",
      "Iteration 81, loss = 0.01055021\n",
      "Iteration 82, loss = 0.01033007\n",
      "Iteration 83, loss = 0.01009023\n",
      "Iteration 84, loss = 0.00990543\n",
      "Iteration 85, loss = 0.00996028\n",
      "Iteration 86, loss = 0.00950634\n",
      "Iteration 87, loss = 0.00939964\n",
      "Iteration 88, loss = 0.00902168\n",
      "Iteration 89, loss = 0.00881540\n",
      "Iteration 90, loss = 0.00870171\n",
      "Iteration 91, loss = 0.00855135\n",
      "Iteration 92, loss = 0.00831191\n",
      "Iteration 93, loss = 0.00821540\n",
      "Iteration 94, loss = 0.00810995\n",
      "Iteration 95, loss = 0.00800648\n",
      "Iteration 96, loss = 0.00784296\n",
      "Iteration 97, loss = 0.00761973\n",
      "Iteration 98, loss = 0.00760882\n",
      "Iteration 99, loss = 0.00758230\n",
      "Iteration 100, loss = 0.00733901\n",
      "Iteration 101, loss = 0.00713923\n",
      "Iteration 102, loss = 0.00703350\n",
      "Iteration 103, loss = 0.00691658\n",
      "Iteration 104, loss = 0.00679044\n",
      "Iteration 105, loss = 0.00669727\n",
      "Iteration 106, loss = 0.00663311\n",
      "Iteration 107, loss = 0.00645292\n",
      "Iteration 108, loss = 0.00641616\n",
      "Iteration 109, loss = 0.00626147\n",
      "Iteration 110, loss = 0.00621109\n",
      "Iteration 111, loss = 0.00622501\n",
      "Iteration 112, loss = 0.00602052\n",
      "Iteration 113, loss = 0.00602832\n",
      "Iteration 114, loss = 0.00586902\n",
      "Iteration 115, loss = 0.00581523\n",
      "Iteration 116, loss = 0.00576866\n",
      "Iteration 117, loss = 0.00563006\n",
      "Iteration 118, loss = 0.00555505\n",
      "Iteration 119, loss = 0.00544764\n",
      "Iteration 120, loss = 0.00548944\n",
      "Iteration 121, loss = 0.00538762\n",
      "Iteration 122, loss = 0.00533512\n",
      "Iteration 123, loss = 0.00527451\n",
      "Iteration 124, loss = 0.00517052\n",
      "Iteration 125, loss = 0.00510950\n",
      "Iteration 126, loss = 0.00508193\n",
      "Iteration 127, loss = 0.00498879\n",
      "Iteration 128, loss = 0.00494108\n",
      "Iteration 129, loss = 0.00480875\n",
      "Iteration 130, loss = 0.00476698\n",
      "Iteration 131, loss = 0.00475862\n",
      "Iteration 132, loss = 0.00465676\n",
      "Iteration 133, loss = 0.00461726\n",
      "Iteration 134, loss = 0.00458759\n",
      "Iteration 135, loss = 0.00457741\n",
      "Iteration 136, loss = 0.00445401\n",
      "Iteration 137, loss = 0.00440243\n",
      "Iteration 138, loss = 0.00434882\n",
      "Iteration 139, loss = 0.00434039\n",
      "Iteration 140, loss = 0.00428335\n",
      "Iteration 141, loss = 0.00426352\n",
      "Iteration 142, loss = 0.00416936\n",
      "Iteration 143, loss = 0.00416989\n",
      "Iteration 144, loss = 0.00409287\n",
      "Iteration 145, loss = 0.00410106\n",
      "Iteration 146, loss = 0.00404589\n",
      "Iteration 147, loss = 0.00402847\n",
      "Training loss did not improve more than tol=0.000100 for 10 consecutive epochs. Stopping.\n",
      "\n",
      "RESULTS FOR BEST NN\n",
      "\n",
      "Best NN training error: 0.000000\n",
      "Best NN test error: 0.224387\n"
     ]
    }
   ],
   "source": [
    "#get training and test error for the best NN model from CV\n",
    "\n",
    "#mlp = GridSearchCV(mlp_cv.best_estimator_, hl_parameters, cv=5, n_jobs=-1).fit(X_train, y_train) #ADD YOUR CODE\n",
    "mlp = mlp_cv.best_estimator_.fit(X_train, y_train) #ADD YOUR CODE\n",
    "\n",
    "training_error = 1 - mlp.score(X_train, y_train) #ADD YOUR CODE\n",
    "\n",
    "test_error = 1 - mlp.score(X_test, y_test) #ADD YOUR CODE\n",
    "\n",
    "print ('\\nRESULTS FOR BEST NN\\n')\n",
    "\n",
    "print (\"Best NN training error: %f\" % training_error)\n",
    "print (\"Best NN test error: %f\" % test_error)"
   ]
  },
  {
   "cell_type": "markdown",
   "metadata": {},
   "source": [
    "## More data \n",
    "Now let's do the same but using 10000 (or less if it takes too long on your machine) data points for training. Use the same NN architectures as before."
   ]
  },
  {
   "cell_type": "code",
   "execution_count": 11,
   "metadata": {},
   "outputs": [
    {
     "name": "stdout",
     "output_type": "stream",
     "text": [
      "Labels and frequencies in training dataset: \n"
     ]
    },
    {
     "data": {
      "text/plain": [
       "(array([0, 1, 2, 3, 4, 5, 6, 7, 8, 9], dtype=uint8),\n",
       " array([1067, 1014, 1029,  996,  961,  941,  994, 1055,  996,  947],\n",
       "       dtype=int64))"
      ]
     },
     "execution_count": 11,
     "metadata": {},
     "output_type": "execute_result"
    }
   ],
   "source": [
    "X = X[permutation]\n",
    "y = y[permutation]\n",
    "\n",
    "m_training = 10000\n",
    "\n",
    "X_train, X_test = X[:m_training], X[m_training:]\n",
    "y_train, y_test = y[:m_training], y[m_training:]\n",
    "\n",
    "print(\"Labels and frequencies in training dataset: \")\n",
    "np.unique(y_train, return_counts=True)"
   ]
  },
  {
   "cell_type": "markdown",
   "metadata": {},
   "source": [
    "## TO DO 4\n",
    "\n",
    "Now train the NNs with the added data points. This time you can run for 100 iterations if you cannot run for 300 iterations."
   ]
  },
  {
   "cell_type": "code",
   "execution_count": 12,
   "metadata": {},
   "outputs": [
    {
     "name": "stdout",
     "output_type": "stream",
     "text": [
      "Iteration 1, loss = 0.93362117\n",
      "Iteration 2, loss = 0.52247546\n",
      "Iteration 3, loss = 0.44966622\n",
      "Iteration 4, loss = 0.41060144\n",
      "Iteration 5, loss = 0.38250827\n",
      "Iteration 6, loss = 0.36544901\n",
      "Iteration 7, loss = 0.34997029\n",
      "Iteration 8, loss = 0.33257958\n",
      "Iteration 9, loss = 0.32611946\n",
      "Iteration 10, loss = 0.31310165\n",
      "Iteration 11, loss = 0.29694352\n",
      "Iteration 12, loss = 0.28701497\n",
      "Iteration 13, loss = 0.27839899\n",
      "Iteration 14, loss = 0.26555272\n",
      "Iteration 15, loss = 0.25815951\n",
      "Iteration 16, loss = 0.25347947\n",
      "Iteration 17, loss = 0.24042323\n",
      "Iteration 18, loss = 0.22850270\n",
      "Iteration 19, loss = 0.23218206\n",
      "Iteration 20, loss = 0.22752236\n",
      "Iteration 21, loss = 0.21593560\n",
      "Iteration 22, loss = 0.21301002\n",
      "Iteration 23, loss = 0.20690577\n",
      "Iteration 24, loss = 0.20323148\n",
      "Iteration 25, loss = 0.20513724\n",
      "Iteration 26, loss = 0.18898356\n",
      "Iteration 27, loss = 0.18929747\n",
      "Iteration 28, loss = 0.17841229\n",
      "Iteration 29, loss = 0.16930795\n",
      "Iteration 30, loss = 0.17631418\n",
      "Iteration 31, loss = 0.17136825\n",
      "Iteration 32, loss = 0.16034201\n",
      "Iteration 33, loss = 0.15009797\n",
      "Iteration 34, loss = 0.15614270\n",
      "Iteration 35, loss = 0.15622862\n",
      "Iteration 36, loss = 0.15411592\n",
      "Iteration 37, loss = 0.14253965\n",
      "Iteration 38, loss = 0.14966407\n",
      "Iteration 39, loss = 0.14256060\n",
      "Iteration 40, loss = 0.13149159\n",
      "Iteration 41, loss = 0.12537256\n",
      "Iteration 42, loss = 0.12176412\n",
      "Iteration 43, loss = 0.12882213\n",
      "Iteration 44, loss = 0.12801795\n",
      "Iteration 45, loss = 0.13530776\n",
      "Iteration 46, loss = 0.11733148\n",
      "Iteration 47, loss = 0.11767935\n",
      "Iteration 48, loss = 0.11019976\n",
      "Iteration 49, loss = 0.10988777\n",
      "Iteration 50, loss = 0.11189036\n",
      "Iteration 51, loss = 0.10885267\n",
      "Iteration 52, loss = 0.10344583\n",
      "Iteration 53, loss = 0.10269228\n",
      "Iteration 54, loss = 0.09770058\n",
      "Iteration 55, loss = 0.09050702\n",
      "Iteration 56, loss = 0.09696293\n",
      "Iteration 57, loss = 0.09618902\n",
      "Iteration 58, loss = 0.09853880\n",
      "Iteration 59, loss = 0.09121167\n",
      "Iteration 60, loss = 0.07940406\n",
      "Iteration 61, loss = 0.07751732\n",
      "Iteration 62, loss = 0.08146195\n",
      "Iteration 63, loss = 0.08363906\n",
      "Iteration 64, loss = 0.09216820\n",
      "Iteration 65, loss = 0.08394814\n",
      "Iteration 66, loss = 0.07924928\n",
      "Iteration 67, loss = 0.06517538\n",
      "Iteration 68, loss = 0.07343613\n",
      "Iteration 69, loss = 0.06750971\n",
      "Iteration 70, loss = 0.06747139\n",
      "Iteration 71, loss = 0.07969101\n",
      "Iteration 72, loss = 0.09719331\n",
      "Iteration 73, loss = 0.06833314\n",
      "Iteration 74, loss = 0.06106000\n",
      "Iteration 75, loss = 0.06273010\n",
      "Iteration 76, loss = 0.07180704\n",
      "Iteration 77, loss = 0.08587739\n",
      "Iteration 78, loss = 0.07699768\n",
      "Iteration 79, loss = 0.08231155\n",
      "Iteration 80, loss = 0.07961209\n",
      "Iteration 81, loss = 0.06503178\n",
      "Iteration 82, loss = 0.05505279\n",
      "Iteration 83, loss = 0.05837864\n",
      "Iteration 84, loss = 0.05897551\n",
      "Iteration 85, loss = 0.04938488\n",
      "Iteration 86, loss = 0.04515674\n",
      "Iteration 87, loss = 0.04767750\n",
      "Iteration 88, loss = 0.04264291\n",
      "Iteration 89, loss = 0.04682535\n",
      "Iteration 90, loss = 0.04502554\n",
      "Iteration 91, loss = 0.04721242\n",
      "Iteration 92, loss = 0.04541746\n",
      "Iteration 93, loss = 0.04561823\n",
      "Iteration 94, loss = 0.03877413\n",
      "Iteration 95, loss = 0.07817633\n",
      "Iteration 96, loss = 0.06665340\n",
      "Iteration 97, loss = 0.05212769\n",
      "Iteration 98, loss = 0.04999236\n",
      "Iteration 99, loss = 0.03903385\n",
      "Iteration 100, loss = 0.04938427\n",
      "Iteration 101, loss = 0.04000048\n",
      "Iteration 102, loss = 0.03709376\n",
      "Iteration 103, loss = 0.03626606\n",
      "Iteration 104, loss = 0.03182370\n",
      "Iteration 105, loss = 0.02499113\n",
      "Iteration 106, loss = 0.03028774\n",
      "Iteration 107, loss = 0.02963952\n",
      "Iteration 108, loss = 0.03277538\n",
      "Iteration 109, loss = 0.04321566\n",
      "Iteration 110, loss = 0.03726232\n",
      "Iteration 111, loss = 0.04050520\n",
      "Iteration 112, loss = 0.04030397\n",
      "Iteration 113, loss = 0.03702259\n",
      "Iteration 114, loss = 0.02660967\n",
      "Iteration 115, loss = 0.02347086\n",
      "Iteration 116, loss = 0.02723406\n",
      "Iteration 117, loss = 0.02556514\n",
      "Iteration 118, loss = 0.03104244\n",
      "Iteration 119, loss = 0.02911856\n",
      "Iteration 120, loss = 0.02674580\n",
      "Iteration 121, loss = 0.02529939\n",
      "Iteration 122, loss = 0.02571778\n",
      "Iteration 123, loss = 0.02904062\n",
      "Iteration 124, loss = 0.02290324\n",
      "Iteration 125, loss = 0.01967257\n",
      "Iteration 126, loss = 0.02547182\n",
      "Iteration 127, loss = 0.02057145\n",
      "Iteration 128, loss = 0.01815466\n",
      "Iteration 129, loss = 0.01604264\n",
      "Iteration 130, loss = 0.01514727\n",
      "Iteration 131, loss = 0.01436413\n",
      "Iteration 132, loss = 0.01432375\n",
      "Iteration 133, loss = 0.01419122\n",
      "Iteration 134, loss = 0.01275745\n",
      "Iteration 135, loss = 0.01982466\n",
      "Iteration 136, loss = 0.01239163\n",
      "Iteration 137, loss = 0.01435702\n",
      "Iteration 138, loss = 0.01344358\n",
      "Iteration 139, loss = 0.02103827\n",
      "Iteration 140, loss = 0.01944471\n",
      "Iteration 141, loss = 0.03288863\n",
      "Iteration 142, loss = 0.03969265\n",
      "Iteration 143, loss = 0.67920562\n",
      "Iteration 144, loss = 0.56071059\n",
      "Iteration 145, loss = 0.34590540\n",
      "Iteration 146, loss = 0.27747212\n",
      "Iteration 147, loss = 0.24079693\n",
      "Training loss did not improve more than tol=0.000100 for 10 consecutive epochs. Stopping.\n"
     ]
    },
    {
     "data": {
      "text/html": [
       "<style>#sk-container-id-2 {color: black;background-color: white;}#sk-container-id-2 pre{padding: 0;}#sk-container-id-2 div.sk-toggleable {background-color: white;}#sk-container-id-2 label.sk-toggleable__label {cursor: pointer;display: block;width: 100%;margin-bottom: 0;padding: 0.3em;box-sizing: border-box;text-align: center;}#sk-container-id-2 label.sk-toggleable__label-arrow:before {content: \"▸\";float: left;margin-right: 0.25em;color: #696969;}#sk-container-id-2 label.sk-toggleable__label-arrow:hover:before {color: black;}#sk-container-id-2 div.sk-estimator:hover label.sk-toggleable__label-arrow:before {color: black;}#sk-container-id-2 div.sk-toggleable__content {max-height: 0;max-width: 0;overflow: hidden;text-align: left;background-color: #f0f8ff;}#sk-container-id-2 div.sk-toggleable__content pre {margin: 0.2em;color: black;border-radius: 0.25em;background-color: #f0f8ff;}#sk-container-id-2 input.sk-toggleable__control:checked~div.sk-toggleable__content {max-height: 200px;max-width: 100%;overflow: auto;}#sk-container-id-2 input.sk-toggleable__control:checked~label.sk-toggleable__label-arrow:before {content: \"▾\";}#sk-container-id-2 div.sk-estimator input.sk-toggleable__control:checked~label.sk-toggleable__label {background-color: #d4ebff;}#sk-container-id-2 div.sk-label input.sk-toggleable__control:checked~label.sk-toggleable__label {background-color: #d4ebff;}#sk-container-id-2 input.sk-hidden--visually {border: 0;clip: rect(1px 1px 1px 1px);clip: rect(1px, 1px, 1px, 1px);height: 1px;margin: -1px;overflow: hidden;padding: 0;position: absolute;width: 1px;}#sk-container-id-2 div.sk-estimator {font-family: monospace;background-color: #f0f8ff;border: 1px dotted black;border-radius: 0.25em;box-sizing: border-box;margin-bottom: 0.5em;}#sk-container-id-2 div.sk-estimator:hover {background-color: #d4ebff;}#sk-container-id-2 div.sk-parallel-item::after {content: \"\";width: 100%;border-bottom: 1px solid gray;flex-grow: 1;}#sk-container-id-2 div.sk-label:hover label.sk-toggleable__label {background-color: #d4ebff;}#sk-container-id-2 div.sk-serial::before {content: \"\";position: absolute;border-left: 1px solid gray;box-sizing: border-box;top: 0;bottom: 0;left: 50%;z-index: 0;}#sk-container-id-2 div.sk-serial {display: flex;flex-direction: column;align-items: center;background-color: white;padding-right: 0.2em;padding-left: 0.2em;position: relative;}#sk-container-id-2 div.sk-item {position: relative;z-index: 1;}#sk-container-id-2 div.sk-parallel {display: flex;align-items: stretch;justify-content: center;background-color: white;position: relative;}#sk-container-id-2 div.sk-item::before, #sk-container-id-2 div.sk-parallel-item::before {content: \"\";position: absolute;border-left: 1px solid gray;box-sizing: border-box;top: 0;bottom: 0;left: 50%;z-index: -1;}#sk-container-id-2 div.sk-parallel-item {display: flex;flex-direction: column;z-index: 1;position: relative;background-color: white;}#sk-container-id-2 div.sk-parallel-item:first-child::after {align-self: flex-end;width: 50%;}#sk-container-id-2 div.sk-parallel-item:last-child::after {align-self: flex-start;width: 50%;}#sk-container-id-2 div.sk-parallel-item:only-child::after {width: 0;}#sk-container-id-2 div.sk-dashed-wrapped {border: 1px dashed gray;margin: 0 0.4em 0.5em 0.4em;box-sizing: border-box;padding-bottom: 0.4em;background-color: white;}#sk-container-id-2 div.sk-label label {font-family: monospace;font-weight: bold;display: inline-block;line-height: 1.2em;}#sk-container-id-2 div.sk-label-container {text-align: center;}#sk-container-id-2 div.sk-container {/* jupyter's `normalize.less` sets `[hidden] { display: none; }` but bootstrap.min.css set `[hidden] { display: none !important; }` so we also need the `!important` here to be able to override the default hidden behavior on the sphinx rendered scikit-learn.org. See: https://github.com/scikit-learn/scikit-learn/issues/21755 */display: inline-block !important;position: relative;}#sk-container-id-2 div.sk-text-repr-fallback {display: none;}</style><div id=\"sk-container-id-2\" class=\"sk-top-container\"><div class=\"sk-text-repr-fallback\"><pre>GridSearchCV(cv=5,\n",
       "             estimator=MLPClassifier(learning_rate_init=0.1, max_iter=300,\n",
       "                                     random_state=2074282, solver=&#x27;sgd&#x27;,\n",
       "                                     verbose=True),\n",
       "             n_jobs=-1,\n",
       "             param_grid={&#x27;hidden_layer_sizes&#x27;: [(10,), (50,), (10, 10),\n",
       "                                                (50, 50)]})</pre><b>In a Jupyter environment, please rerun this cell to show the HTML representation or trust the notebook. <br />On GitHub, the HTML representation is unable to render, please try loading this page with nbviewer.org.</b></div><div class=\"sk-container\" hidden><div class=\"sk-item sk-dashed-wrapped\"><div class=\"sk-label-container\"><div class=\"sk-label sk-toggleable\"><input class=\"sk-toggleable__control sk-hidden--visually\" id=\"sk-estimator-id-4\" type=\"checkbox\" ><label for=\"sk-estimator-id-4\" class=\"sk-toggleable__label sk-toggleable__label-arrow\">GridSearchCV</label><div class=\"sk-toggleable__content\"><pre>GridSearchCV(cv=5,\n",
       "             estimator=MLPClassifier(learning_rate_init=0.1, max_iter=300,\n",
       "                                     random_state=2074282, solver=&#x27;sgd&#x27;,\n",
       "                                     verbose=True),\n",
       "             n_jobs=-1,\n",
       "             param_grid={&#x27;hidden_layer_sizes&#x27;: [(10,), (50,), (10, 10),\n",
       "                                                (50, 50)]})</pre></div></div></div><div class=\"sk-parallel\"><div class=\"sk-parallel-item\"><div class=\"sk-item\"><div class=\"sk-label-container\"><div class=\"sk-label sk-toggleable\"><input class=\"sk-toggleable__control sk-hidden--visually\" id=\"sk-estimator-id-5\" type=\"checkbox\" ><label for=\"sk-estimator-id-5\" class=\"sk-toggleable__label sk-toggleable__label-arrow\">estimator: MLPClassifier</label><div class=\"sk-toggleable__content\"><pre>MLPClassifier(learning_rate_init=0.1, max_iter=300, random_state=2074282,\n",
       "              solver=&#x27;sgd&#x27;, verbose=True)</pre></div></div></div><div class=\"sk-serial\"><div class=\"sk-item\"><div class=\"sk-estimator sk-toggleable\"><input class=\"sk-toggleable__control sk-hidden--visually\" id=\"sk-estimator-id-6\" type=\"checkbox\" ><label for=\"sk-estimator-id-6\" class=\"sk-toggleable__label sk-toggleable__label-arrow\">MLPClassifier</label><div class=\"sk-toggleable__content\"><pre>MLPClassifier(learning_rate_init=0.1, max_iter=300, random_state=2074282,\n",
       "              solver=&#x27;sgd&#x27;, verbose=True)</pre></div></div></div></div></div></div></div></div></div></div>"
      ],
      "text/plain": [
       "GridSearchCV(cv=5,\n",
       "             estimator=MLPClassifier(learning_rate_init=0.1, max_iter=300,\n",
       "                                     random_state=2074282, solver='sgd',\n",
       "                                     verbose=True),\n",
       "             n_jobs=-1,\n",
       "             param_grid={'hidden_layer_sizes': [(10,), (50,), (10, 10),\n",
       "                                                (50, 50)]})"
      ]
     },
     "execution_count": 12,
     "metadata": {},
     "output_type": "execute_result"
    }
   ],
   "source": [
    "#for NN we try the same architectures as before\n",
    "hl_parameters = {'hidden_layer_sizes': [(10,), (50,), (10,10,), (50,50,)]}\n",
    "\n",
    "mlp_large_cv = GridSearchCV(MLPClassifier(max_iter=300, alpha=1e-4, solver='sgd', tol=1e-4, learning_rate_init=.1, verbose=True, random_state=ID), hl_parameters, cv=5, n_jobs=-1) #ADD YOUR CODE\n",
    "\n",
    "mlp_large_cv.fit(X_train, y_train)"
   ]
  },
  {
   "cell_type": "code",
   "execution_count": 13,
   "metadata": {},
   "outputs": [
    {
     "name": "stdout",
     "output_type": "stream",
     "text": [
      "RESULTS FOR NN\n",
      "\n",
      "Best parameters set found:\n",
      "{'hidden_layer_sizes': (50,)}\n",
      "Score with best parameters:\n",
      "0.8427\n",
      "\n",
      "All scores on the grid:\n"
     ]
    },
    {
     "data": {
      "text/plain": [
       "{'mean_fit_time': array([12.70808015, 28.87026248,  9.58622599, 20.20305023]),\n",
       " 'std_fit_time': array([0.51219739, 6.18124935, 1.83072706, 2.74154267]),\n",
       " 'mean_score_time': array([0.01199861, 0.01561241, 0.01120009, 0.01160002]),\n",
       " 'std_score_time': array([0.00089431, 0.00079055, 0.00074829, 0.00215637]),\n",
       " 'param_hidden_layer_sizes': masked_array(data=[(10,), (50,), (10, 10), (50, 50)],\n",
       "              mask=[False, False, False, False],\n",
       "        fill_value='?',\n",
       "             dtype=object),\n",
       " 'params': [{'hidden_layer_sizes': (10,)},\n",
       "  {'hidden_layer_sizes': (50,)},\n",
       "  {'hidden_layer_sizes': (10, 10)},\n",
       "  {'hidden_layer_sizes': (50, 50)}],\n",
       " 'split0_test_score': array([0.786 , 0.825 , 0.792 , 0.8335]),\n",
       " 'split1_test_score': array([0.8125, 0.8485, 0.8055, 0.8505]),\n",
       " 'split2_test_score': array([0.811 , 0.849 , 0.779 , 0.8385]),\n",
       " 'split3_test_score': array([0.8075, 0.8485, 0.812 , 0.8315]),\n",
       " 'split4_test_score': array([0.8045, 0.8425, 0.759 , 0.8435]),\n",
       " 'mean_test_score': array([0.8043, 0.8427, 0.7895, 0.8395]),\n",
       " 'std_test_score': array([0.00956347, 0.00916842, 0.01902104, 0.00689928]),\n",
       " 'rank_test_score': array([3, 1, 4, 2])}"
      ]
     },
     "metadata": {},
     "output_type": "display_data"
    }
   ],
   "source": [
    "print ('RESULTS FOR NN\\n')\n",
    "\n",
    "print(\"Best parameters set found:\")\n",
    "#ADD YOUR CODE\n",
    "print(mlp_large_cv.best_params_)\n",
    "#\n",
    "\n",
    "print(\"Score with best parameters:\")\n",
    "#ADD YOUR CODE\n",
    "print(mlp_large_cv.best_score_)\n",
    "#\n",
    "\n",
    "print(\"\\nAll scores on the grid:\")\n",
    "#ADD YOUR CODE\n",
    "with pd.option_context('display.max_rows', None, 'display.max_columns', None):\n",
    "    display(mlp_large_cv.cv_results_)\n",
    "#"
   ]
  },
  {
   "cell_type": "markdown",
   "metadata": {},
   "source": [
    "## TO DO 5\n",
    "Describe your architecture choices and the results you observe with respect to the architectures you used."
   ]
  },
  {
   "cell_type": "markdown",
   "metadata": {},
   "source": [
    "## TO DO 6\n",
    "\n",
    "Get the train and test error for the best NN you obtained with 10000 points. "
   ]
  },
  {
   "cell_type": "code",
   "execution_count": 14,
   "metadata": {},
   "outputs": [
    {
     "name": "stdout",
     "output_type": "stream",
     "text": [
      "Iteration 1, loss = 0.93362117\n",
      "Iteration 2, loss = 0.52247546\n",
      "Iteration 3, loss = 0.44966622\n",
      "Iteration 4, loss = 0.41060144\n",
      "Iteration 5, loss = 0.38250827\n",
      "Iteration 6, loss = 0.36544901\n",
      "Iteration 7, loss = 0.34997029\n",
      "Iteration 8, loss = 0.33257958\n",
      "Iteration 9, loss = 0.32611946\n",
      "Iteration 10, loss = 0.31310165\n",
      "Iteration 11, loss = 0.29694352\n",
      "Iteration 12, loss = 0.28701497\n",
      "Iteration 13, loss = 0.27839899\n",
      "Iteration 14, loss = 0.26555272\n",
      "Iteration 15, loss = 0.25815951\n",
      "Iteration 16, loss = 0.25347947\n",
      "Iteration 17, loss = 0.24042323\n",
      "Iteration 18, loss = 0.22850270\n",
      "Iteration 19, loss = 0.23218206\n",
      "Iteration 20, loss = 0.22752236\n",
      "Iteration 21, loss = 0.21593560\n",
      "Iteration 22, loss = 0.21301002\n",
      "Iteration 23, loss = 0.20690577\n",
      "Iteration 24, loss = 0.20323148\n",
      "Iteration 25, loss = 0.20513724\n",
      "Iteration 26, loss = 0.18898356\n",
      "Iteration 27, loss = 0.18929747\n",
      "Iteration 28, loss = 0.17841229\n",
      "Iteration 29, loss = 0.16930795\n",
      "Iteration 30, loss = 0.17631418\n",
      "Iteration 31, loss = 0.17136825\n",
      "Iteration 32, loss = 0.16034201\n",
      "Iteration 33, loss = 0.15009797\n",
      "Iteration 34, loss = 0.15614270\n",
      "Iteration 35, loss = 0.15622862\n",
      "Iteration 36, loss = 0.15411592\n",
      "Iteration 37, loss = 0.14253965\n",
      "Iteration 38, loss = 0.14966407\n",
      "Iteration 39, loss = 0.14256060\n",
      "Iteration 40, loss = 0.13149159\n",
      "Iteration 41, loss = 0.12537256\n",
      "Iteration 42, loss = 0.12176412\n",
      "Iteration 43, loss = 0.12882213\n",
      "Iteration 44, loss = 0.12801795\n",
      "Iteration 45, loss = 0.13530776\n",
      "Iteration 46, loss = 0.11733148\n",
      "Iteration 47, loss = 0.11767935\n",
      "Iteration 48, loss = 0.11019976\n",
      "Iteration 49, loss = 0.10988777\n",
      "Iteration 50, loss = 0.11189036\n",
      "Iteration 51, loss = 0.10885267\n",
      "Iteration 52, loss = 0.10344583\n",
      "Iteration 53, loss = 0.10269228\n",
      "Iteration 54, loss = 0.09770058\n",
      "Iteration 55, loss = 0.09050702\n",
      "Iteration 56, loss = 0.09696293\n",
      "Iteration 57, loss = 0.09618902\n",
      "Iteration 58, loss = 0.09853880\n",
      "Iteration 59, loss = 0.09121167\n",
      "Iteration 60, loss = 0.07940406\n",
      "Iteration 61, loss = 0.07751732\n",
      "Iteration 62, loss = 0.08146195\n",
      "Iteration 63, loss = 0.08363906\n",
      "Iteration 64, loss = 0.09216820\n",
      "Iteration 65, loss = 0.08394814\n",
      "Iteration 66, loss = 0.07924928\n",
      "Iteration 67, loss = 0.06517538\n",
      "Iteration 68, loss = 0.07343613\n",
      "Iteration 69, loss = 0.06750971\n",
      "Iteration 70, loss = 0.06747139\n",
      "Iteration 71, loss = 0.07969101\n",
      "Iteration 72, loss = 0.09719331\n",
      "Iteration 73, loss = 0.06833314\n",
      "Iteration 74, loss = 0.06106000\n",
      "Iteration 75, loss = 0.06273010\n",
      "Iteration 76, loss = 0.07180704\n",
      "Iteration 77, loss = 0.08587739\n",
      "Iteration 78, loss = 0.07699768\n",
      "Iteration 79, loss = 0.08231155\n",
      "Iteration 80, loss = 0.07961209\n",
      "Iteration 81, loss = 0.06503178\n",
      "Iteration 82, loss = 0.05505279\n",
      "Iteration 83, loss = 0.05837864\n",
      "Iteration 84, loss = 0.05897551\n",
      "Iteration 85, loss = 0.04938488\n",
      "Iteration 86, loss = 0.04515674\n",
      "Iteration 87, loss = 0.04767750\n",
      "Iteration 88, loss = 0.04264291\n",
      "Iteration 89, loss = 0.04682535\n",
      "Iteration 90, loss = 0.04502554\n",
      "Iteration 91, loss = 0.04721242\n",
      "Iteration 92, loss = 0.04541746\n",
      "Iteration 93, loss = 0.04561823\n",
      "Iteration 94, loss = 0.03877413\n",
      "Iteration 95, loss = 0.07817633\n",
      "Iteration 96, loss = 0.06665340\n",
      "Iteration 97, loss = 0.05212769\n",
      "Iteration 98, loss = 0.04999236\n",
      "Iteration 99, loss = 0.03903385\n",
      "Iteration 100, loss = 0.04938427\n",
      "Iteration 101, loss = 0.04000048\n",
      "Iteration 102, loss = 0.03709376\n",
      "Iteration 103, loss = 0.03626606\n",
      "Iteration 104, loss = 0.03182370\n",
      "Iteration 105, loss = 0.02499113\n",
      "Iteration 106, loss = 0.03028774\n",
      "Iteration 107, loss = 0.02963952\n",
      "Iteration 108, loss = 0.03277538\n",
      "Iteration 109, loss = 0.04321566\n",
      "Iteration 110, loss = 0.03726232\n",
      "Iteration 111, loss = 0.04050520\n",
      "Iteration 112, loss = 0.04030397\n",
      "Iteration 113, loss = 0.03702259\n",
      "Iteration 114, loss = 0.02660967\n",
      "Iteration 115, loss = 0.02347086\n",
      "Iteration 116, loss = 0.02723406\n",
      "Iteration 117, loss = 0.02556514\n",
      "Iteration 118, loss = 0.03104244\n",
      "Iteration 119, loss = 0.02911856\n",
      "Iteration 120, loss = 0.02674580\n",
      "Iteration 121, loss = 0.02529939\n",
      "Iteration 122, loss = 0.02571778\n",
      "Iteration 123, loss = 0.02904062\n",
      "Iteration 124, loss = 0.02290324\n",
      "Iteration 125, loss = 0.01967257\n",
      "Iteration 126, loss = 0.02547182\n",
      "Iteration 127, loss = 0.02057145\n",
      "Iteration 128, loss = 0.01815466\n",
      "Iteration 129, loss = 0.01604264\n",
      "Iteration 130, loss = 0.01514727\n",
      "Iteration 131, loss = 0.01436413\n",
      "Iteration 132, loss = 0.01432375\n",
      "Iteration 133, loss = 0.01419122\n",
      "Iteration 134, loss = 0.01275745\n",
      "Iteration 135, loss = 0.01982466\n",
      "Iteration 136, loss = 0.01239163\n",
      "Iteration 137, loss = 0.01435702\n",
      "Iteration 138, loss = 0.01344358\n",
      "Iteration 139, loss = 0.02103827\n",
      "Iteration 140, loss = 0.01944471\n",
      "Iteration 141, loss = 0.03288863\n",
      "Iteration 142, loss = 0.03969265\n",
      "Iteration 143, loss = 0.67920562\n",
      "Iteration 144, loss = 0.56071059\n",
      "Iteration 145, loss = 0.34590540\n",
      "Iteration 146, loss = 0.27747212\n",
      "Iteration 147, loss = 0.24079693\n",
      "Training loss did not improve more than tol=0.000100 for 10 consecutive epochs. Stopping.\n",
      "RESULTS FOR BEST NN\n",
      "\n",
      "Best NN training error: 0.077500\n",
      "Best NN test error: 0.161440\n"
     ]
    }
   ],
   "source": [
    "#get training and test error for the best NN model from CV\n",
    "\n",
    "#best_mlp_large = GridSearchCV(mlp_large_cv.best_estimator_, hl_parameters, cv=5, n_jobs=-1).fit(X_train, y_train) #ADD YOUR CODE\n",
    "best_mlp_large = mlp_large_cv.best_estimator_.fit(X_train, y_train) #ADD YOUR CODE\n",
    "\n",
    "training_error = 1 - best_mlp_large.score(X_train, y_train) #ADD YOUR CODE\n",
    "\n",
    "test_error = 1 - best_mlp_large.score(X_test, y_test) #ADD YOUR CODE\n",
    "\n",
    "print ('RESULTS FOR BEST NN\\n')\n",
    "\n",
    "print (\"Best NN training error: %f\" % training_error)\n",
    "print (\"Best NN test error: %f\" % test_error)"
   ]
  },
  {
   "cell_type": "markdown",
   "metadata": {},
   "source": [
    "## TO DO 7\n",
    "\n",
    "Compare the train and test error you got with a large number of samples with the best one you obtained with only 500 data points. Are the architectures the same or do they differ? What about the errors you get?"
   ]
  },
  {
   "cell_type": "markdown",
   "metadata": {},
   "source": [
    "[ADD YOUR ANSWER HERE]"
   ]
  },
  {
   "cell_type": "markdown",
   "metadata": {},
   "source": [
    "## TO DO 8\n",
    "\n",
    "Plot an image that was missclassified by NN with m=500 training data points and it is now instead correctly classified by NN with m=10000 training data points."
   ]
  },
  {
   "cell_type": "code",
   "execution_count": 15,
   "metadata": {},
   "outputs": [
    {
     "name": "stdout",
     "output_type": "stream",
     "text": [
      "INPUT:\n"
     ]
    },
    {
     "data": {
      "image/png": "[encoded data removed]",
      "text/plain": [
       "<Figure size 432x288 with 1 Axes>"
      ]
     },
     "metadata": {
      "needs_background": "light"
     },
     "output_type": "display_data"
    },
    {
     "name": "stdout",
     "output_type": "stream",
     "text": [
      "LABEL: 5\n",
      "Misclassified with m=500:  8\n",
      "Correctly classified with m=10000: 5\n"
     ]
    }
   ],
   "source": [
    "#ADD YOUR CODE\n",
    "prediction_500 = mlp.predict(X_test)\n",
    "prediction_10k = best_mlp_large.predict(X_test)\n",
    "\n",
    "misclassified = np.where(y_test != prediction_500)[0]\n",
    "classified = np.where(y_test == prediction_10k)[0]\n",
    "index = -1\n",
    "for i in classified:\n",
    "    if index != -1:\n",
    "        break\n",
    "    for j in misclassified:\n",
    "        if index != -1:\n",
    "            break\n",
    "        if i == j:\n",
    "            index = i\n",
    "\n",
    "plot_input(X_test, y_test, index)\n",
    "print(\"Misclassified with m=500: \", prediction_500[index])\n",
    "print(\"Correctly classified with m=10000:\", prediction_10k[index])\n",
    "#"
   ]
  },
  {
   "cell_type": "markdown",
   "metadata": {},
   "source": [
    "Let's plot some of the weigths of the multi-layer perceptron classifier, for the best NN we get with 500 data points and with 10000 data points. The code below plots the weights in a matrix form, where a figure represents all the weights of the edges entering in a hidden node. Notice that the code assumes that the NNs are called \"mlp\" and \"best_mlp_large\": you may need to replace such variables with your variable names. \n",
    "\n"
   ]
  },
  {
   "cell_type": "code",
   "execution_count": 16,
   "metadata": {},
   "outputs": [
    {
     "name": "stdout",
     "output_type": "stream",
     "text": [
      "Weights with 500 data points:\n"
     ]
    },
    {
     "data": {
      "image/png": "[encoded data removed]",
      "text/plain": [
       "<Figure size 432x288 with 16 Axes>"
      ]
     },
     "metadata": {},
     "output_type": "display_data"
    },
    {
     "name": "stdout",
     "output_type": "stream",
     "text": [
      "Weights with 10000 data points:\n"
     ]
    },
    {
     "data": {
      "image/png": "[encoded data removed]",
      "text/plain": [
       "<Figure size 432x288 with 16 Axes>"
      ]
     },
     "metadata": {},
     "output_type": "display_data"
    }
   ],
   "source": [
    "print(\"Weights with 500 data points:\")\n",
    "\n",
    "fig, axes = plt.subplots(4, 4)\n",
    "vmin, vmax = mlp.coefs_[0].min(), mlp.coefs_[0].max()\n",
    "for coef, ax in zip(mlp.coefs_[0].T, axes.ravel()):\n",
    "    ax.matshow(coef.reshape(28, 28), cmap=plt.cm.gray, vmin=.5 * vmin, vmax=.5 * vmax)\n",
    "    ax.set_xticks(())\n",
    "    ax.set_yticks(())\n",
    "\n",
    "plt.show()\n",
    "\n",
    "print(\"Weights with 10000 data points:\")\n",
    "\n",
    "fig, axes = plt.subplots(4, 4)\n",
    "vmin, vmax = best_mlp_large.coefs_[0].min(), best_mlp_large.coefs_[0].max()\n",
    "for coef, ax in zip(best_mlp_large.coefs_[0].T, axes.ravel()):\n",
    "    ax.matshow(coef.reshape(28, 28), cmap=plt.cm.gray, vmin=.5 * vmin, vmax=.5 * vmax)\n",
    "    ax.set_xticks(())\n",
    "    ax.set_yticks(())\n",
    "plt.show()"
   ]
  },
  {
   "cell_type": "markdown",
   "metadata": {},
   "source": [
    "## TO DO 9\n",
    "\n",
    "Describe what do you observe by looking at the weights.\n",
    "\n",
    "[ADD YOUR ANSWER HERE]"
   ]
  },
  {
   "cell_type": "markdown",
   "metadata": {},
   "source": [
    "## TO DO 10\n",
    "\n",
    "Pick another classifier among the ones we have seen previously (SVM or something else). Report the training and test error for such classifier with 10000 samples in the training set, if possible; if the classifier cannot run with so many data sample reduce the number of samples.\n",
    "\n",
    "*Note*: if there are parameters to be optimized use cross-validation. If you choose SVM, you can decide if you want to use a single kernel or use the best among many; in the latter case, you need to pick the best kernel using cross-validation (using the functions available in sklearn).\n",
    "\n",
    "**[WRITE HERE WHAT CLASSIFIER YOU ARE CHOOSING AND WHAT PARAMETERS YOU NEED TO SET.]**"
   ]
  },
  {
   "cell_type": "code",
   "execution_count": null,
   "metadata": {},
   "outputs": [],
   "source": [
    "# ADD YOUR CODE\n",
    "from sklearn.svm import SVC\n",
    "\n",
    "param_grid = {'C':[1,10,100],'gamma':[0.001,0.01,0.1],'kernel':['rbf','poly']}\n",
    "model = GridSearchCV(SVC(), param_grid, cv=5, n_jobs=-1)"
   ]
  },
  {
   "cell_type": "code",
   "execution_count": null,
   "metadata": {},
   "outputs": [],
   "source": [
    "model.fit(X_train, y_train)\n",
    "#svm = model.best_estimator_\n",
    "print(\"Other classifier (SVM) parameter:\", model.best_params_)"
   ]
  },
  {
   "cell_type": "code",
   "execution_count": null,
   "metadata": {},
   "outputs": [],
   "source": [
    "svm = model.best_estimator_.fit(X_train, y_train)\n",
    "#\n",
    "\n",
    "training_error_other = 1 - svm.score(X_train, y_train) #ADD YOUR CODE\n",
    "\n",
    "test_error_other = 1 - svm.score(X_test, y_test) #ADD YOUR CODE\n",
    "\n",
    "print ('RESULTS FOR OTHER CLASSIFIER\\n')\n",
    "\n",
    "print (\"Best training error (other model): %f\" % training_error_other)\n",
    "print (\"Best test error (other model): %f\" % test_error_other)"
   ]
  },
  {
   "cell_type": "markdown",
   "metadata": {},
   "source": [
    "## TO DO 11\n",
    "Compare the results of NN and of the other classifier you have chosen above. Which classifier would you preferer? Provide a brief explanation."
   ]
  },
  {
   "cell_type": "markdown",
   "metadata": {},
   "source": [
    "[ADD YOUR ANSWER HERE]"
   ]
  },
  {
   "cell_type": "markdown",
   "metadata": {},
   "source": [
    "# Clustering with K-means\n",
    "\n",
    "Clustering is a useful technique for *unsupervised* learning. We are now going to cluster 2000 images in the fashion MNIST dataset, and try to understand if the clusters we obtain correspond to the true labels."
   ]
  },
  {
   "cell_type": "code",
   "execution_count": 17,
   "metadata": {},
   "outputs": [],
   "source": [
    "#load the required packages\n",
    "\n",
    "from sklearn import metrics\n",
    "from sklearn.cluster import KMeans"
   ]
  },
  {
   "cell_type": "markdown",
   "metadata": {},
   "source": [
    "(Note that the code below assumes that the data has already been transformed as in the NN part of the notebook, so make sure to run the code for the transformation even if you do not complete the part on NN.)"
   ]
  },
  {
   "cell_type": "code",
   "execution_count": 18,
   "metadata": {},
   "outputs": [],
   "source": [
    "#let's consider only 2000 data points\n",
    "\n",
    "X = X[permutation]\n",
    "y = y[permutation]\n",
    "\n",
    "m_training = 2000\n",
    "\n",
    "X_train, X_test = X[:m_training], X[m_training:]\n",
    "y_train, y_test = y[:m_training], y[m_training:]"
   ]
  },
  {
   "cell_type": "markdown",
   "metadata": {},
   "source": [
    "## TO DO 12\n",
    "Cluster the points using the KMeans() and fit() functions (see the userguide for details). For Kmeans, set: n_clusters=10 as number of clusters; n_init=10 as the number of times the algorithm will be run with different centroid seeds; random_state = ID. You can use the default setting for the other parameters."
   ]
  },
  {
   "cell_type": "code",
   "execution_count": 19,
   "metadata": {},
   "outputs": [],
   "source": [
    "kmeans = KMeans(n_clusters=10, n_init=10, random_state=ID) #COMPLETE\n",
    "# ADD CODE\n",
    "kmeans = kmeans.fit(X_train)\n",
    "#"
   ]
  },
  {
   "cell_type": "markdown",
   "metadata": {},
   "source": [
    "## Comparison of clusters with true labels"
   ]
  },
  {
   "cell_type": "markdown",
   "metadata": {},
   "source": [
    "## TO DO 13\n",
    "Now compare the obtained clusters with the true labels, using the function sklearn.metrics.cluster.contingency_matrix() (see the userguide for details). The function prints a matrix $A$ such that entry $A_{i,j}$ is is the number of samples in true class $i$ and in predicted class $j$."
   ]
  },
  {
   "cell_type": "code",
   "execution_count": 39,
   "metadata": {},
   "outputs": [
    {
     "name": "stdout",
     "output_type": "stream",
     "text": [
      "[[1565    2   24  146  510   22 3397  154    0    0]\n",
      " [ 136    0    0 5211  146    3  240   65    0    0]\n",
      " [1676    1   22    5  442   26  142 3478    0    0]\n",
      " [ 593    0    7 2902  504    3 1758   45    0    0]\n",
      " [ 990    0   29  124  214   13  920 3498    0    0]\n",
      " [  41 1364   11    1 3575    6    2    0  552  246]\n",
      " [2008    4   17   39  662   50 1077 1934    1    1]\n",
      " [   0 4493    0    0  516    3    0    0  749   26]\n",
      " [ 368  202 2315   20  440 2096   26  279   54    6]\n",
      " [  35  167    0    1  142    3    3    0 2800 2652]]\n"
     ]
    },
    {
     "data": {
      "text/plain": [
       "[Text(0.5, 1.0, 'Contingency matrix'),\n",
       " Text(0.5, 15.0, 'Kmeans prediction'),\n",
       " Text(33.0, 0.5, 'True value')]"
      ]
     },
     "execution_count": 39,
     "metadata": {},
     "output_type": "execute_result"
    },
    {
     "data": {
      "image/png": "[encoded data removed]",
      "text/plain": [
       "<Figure size 432x288 with 2 Axes>"
      ]
     },
     "metadata": {
      "needs_background": "light"
     },
     "output_type": "display_data"
    }
   ],
   "source": [
    "# compute and print the contingency matrix for the true labels vs the clustering assignments\n",
    "#ADD CODE\n",
    "import seaborn as sns\n",
    "y_pred_kmeans = kmeans.predict(X_test)\n",
    "c_matrix = metrics.cluster.contingency_matrix(y_test, y_pred_kmeans)\n",
    "\n",
    "print(c_matrix)\n",
    "sns.heatmap(c_matrix/100, annot=True, linewidth=.5, cmap=\"crest\").set(title='Contingency matrix', xlabel='Kmeans prediction', ylabel='True value')\n",
    "#"
   ]
  },
  {
   "cell_type": "markdown",
   "metadata": {},
   "source": [
    "## TO DO 14\n",
    "Based on the matrix shown above, comment on the results of clustering in terms of adherence to the true labels.\n",
    "\n",
    "[ADD YOUR ANSWER HERE]"
   ]
  },
  {
   "cell_type": "markdown",
   "metadata": {},
   "source": [
    "## Choice of k with silhoutte coefficient\n",
    "In many real applications it is unclear what is the correct value of $k$ to use. In practice one tries different values of $k$ and then uses some external score to choose a value of $k$. One such score is the silhoutte coefficient, that can be computed with metrics.silhouette_score(). See the definition of the silhoutte coefficient in the userguide."
   ]
  },
  {
   "cell_type": "markdown",
   "metadata": {},
   "source": [
    "## TO DO 15\n",
    "Compute the clustering for k=2,3,...,15 (other parameters as above) and print the silhoutte coefficient for each such clustering."
   ]
  },
  {
   "cell_type": "code",
   "execution_count": 40,
   "metadata": {},
   "outputs": [
    {
     "name": "stdout",
     "output_type": "stream",
     "text": [
      "Silhoutte coefficient for number of clusters=2: 0.19754271562578468\n",
      "Silhoutte coefficient for number of clusters=3: 0.18773386681349985\n",
      "Silhoutte coefficient for number of clusters=4: 0.18412129982148184\n",
      "Silhoutte coefficient for number of clusters=5: 0.1554018133385242\n",
      "Silhoutte coefficient for number of clusters=6: 0.15953886840558987\n",
      "Silhoutte coefficient for number of clusters=7: 0.16966591378503684\n",
      "Silhoutte coefficient for number of clusters=8: 0.16750476746595422\n",
      "Silhoutte coefficient for number of clusters=9: 0.1462882670007785\n",
      "Silhoutte coefficient for number of clusters=10: 0.15430568526259572\n",
      "Silhoutte coefficient for number of clusters=11: 0.137458101011402\n",
      "Silhoutte coefficient for number of clusters=12: 0.13592777481047114\n",
      "Silhoutte coefficient for number of clusters=13: 0.13460236090699748\n",
      "Silhoutte coefficient for number of clusters=14: 0.12888127733529572\n",
      "Silhoutte coefficient for number of clusters=15: 0.12459646075955395\n"
     ]
    }
   ],
   "source": [
    "#run k-means with 10 choices of initial centroids for a range of values of n_clusters\n",
    "\n",
    "list_of_silhouttes = []\n",
    "for i in range(2,16):\n",
    "    #ADD CODE\n",
    "    km = KMeans(n_clusters=i, n_init=10, random_state=ID)\n",
    "    km.fit(X_train)\n",
    "    #\n",
    "    silhouttescore = metrics.silhouette_score(X_train, km.labels_) #COMPLETE\n",
    "    list_of_silhouttes.append(silhouttescore)\n",
    "    print(\"Silhoutte coefficient for number of clusters=\"+str(i)+\": \"+str(silhouttescore))"
   ]
  },
  {
   "cell_type": "markdown",
   "metadata": {},
   "source": [
    "Let us now plot how the silhouette coefficients change with respect to k."
   ]
  },
  {
   "cell_type": "code",
   "execution_count": 43,
   "metadata": {},
   "outputs": [
    {
     "data": {
      "text/plain": [
       "Text(0.5, 1.0, 'Silhouette score per number of clusters')"
      ]
     },
     "execution_count": 43,
     "metadata": {},
     "output_type": "execute_result"
    },
    {
     "data": {
      "image/png": "[encoded data removed]",
      "text/plain": [
       "<Figure size 432x288 with 1 Axes>"
      ]
     },
     "metadata": {
      "needs_background": "light"
     },
     "output_type": "display_data"
    }
   ],
   "source": [
    "plt.plot([i for i in range(2,16)],list_of_silhouttes, \"o-\")\n",
    "plt.gca().set_ylim(bottom=0.12)\n",
    "plt.title(\"Silhouette score per number of clusters\")"
   ]
  },
  {
   "cell_type": "markdown",
   "metadata": {},
   "source": [
    "## TO DO 16\n",
    "\n",
    "Based on the silhoutte score, which $k$ would you pick? Motivate your choice. Does your choice match what you know about the data? If yes, explain why you think this is the case; if no, explain what you think may be the reason."
   ]
  },
  {
   "cell_type": "markdown",
   "metadata": {},
   "source": [
    "[ADD YOUR ANSWER HERE]"
   ]
  }
 ],
 "metadata": {
  "kernelspec": {
   "display_name": "gpu5",
   "language": "python",
   "name": "python3"
  },
  "language_info": {
   "codemirror_mode": {
    "name": "ipython",
    "version": 3
   },
   "file_extension": ".py",
   "mimetype": "text/x-python",
   "name": "python",
   "nbconvert_exporter": "python",
   "pygments_lexer": "ipython3",
   "version": "3.8.15"
  },
  "vscode": {
   "interpreter": {
    "hash": "10f11cb71a5baa8e7d96098c7e4f0c8873a89e2a2b5adef634da4bf945a161a2"
   }
  }
 },
 "nbformat": 4,
 "nbformat_minor": 4
}
